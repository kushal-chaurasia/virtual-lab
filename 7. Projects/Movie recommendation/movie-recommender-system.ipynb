{
  "cells": [
    {
      "cell_type": "code",
      "execution_count": 1,
      "id": "d8fe0109",
      "metadata": {
        "_cell_guid": "b1076dfc-b9ad-4769-8c92-a6c4dae69d19",
        "_uuid": "8f2839f25d086af736a60e9eeb907d3b93b6e0e5",
        "execution": {
          "iopub.execute_input": "2023-10-18T17:04:05.332887Z",
          "iopub.status.busy": "2023-10-18T17:04:05.332248Z",
          "iopub.status.idle": "2023-10-18T17:04:05.692771Z",
          "shell.execute_reply": "2023-10-18T17:04:05.691106Z"
        },
        "papermill": {
          "duration": 0.376514,
          "end_time": "2023-10-18T17:04:05.695714",
          "exception": false,
          "start_time": "2023-10-18T17:04:05.319200",
          "status": "completed"
        },
        "tags": [],
        "id": "d8fe0109"
      },
      "outputs": [],
      "source": [
        "import numpy as np # linear algebra\n",
        "import pandas as pd"
      ]
    },
    {
      "cell_type": "markdown",
      "id": "4ea42a77",
      "metadata": {
        "id": "4ea42a77"
      },
      "source": [
        "Reading csv files into dataframe"
      ]
    },
    {
      "cell_type": "code",
      "execution_count": 2,
      "id": "fef1bdde",
      "metadata": {
        "execution": {
          "iopub.execute_input": "2023-10-18T17:04:05.722766Z",
          "iopub.status.busy": "2023-10-18T17:04:05.722318Z",
          "iopub.status.idle": "2023-10-18T17:04:06.723518Z",
          "shell.execute_reply": "2023-10-18T17:04:06.722593Z"
        },
        "papermill": {
          "duration": 1.016577,
          "end_time": "2023-10-18T17:04:06.725713",
          "exception": false,
          "start_time": "2023-10-18T17:04:05.709136",
          "status": "completed"
        },
        "tags": [],
        "id": "fef1bdde",
        "outputId": "41fe464d-03ce-4a8b-c653-ca6e33d6e163",
        "colab": {
          "base_uri": "https://localhost:8080/",
          "height": 316
        }
      },
      "outputs": [
        {
          "output_type": "error",
          "ename": "FileNotFoundError",
          "evalue": "[Errno 2] No such file or directory: 'tmdb_5000_movies.csv'",
          "traceback": [
            "\u001b[0;31m---------------------------------------------------------------------------\u001b[0m",
            "\u001b[0;31mFileNotFoundError\u001b[0m                         Traceback (most recent call last)",
            "\u001b[0;32m<ipython-input-2-5d6453fdeae8>\u001b[0m in \u001b[0;36m<cell line: 0>\u001b[0;34m()\u001b[0m\n\u001b[0;32m----> 1\u001b[0;31m \u001b[0mmovies\u001b[0m \u001b[0;34m=\u001b[0m \u001b[0mpd\u001b[0m\u001b[0;34m.\u001b[0m\u001b[0mread_csv\u001b[0m\u001b[0;34m(\u001b[0m\u001b[0;34m'tmdb_5000_movies.csv'\u001b[0m\u001b[0;34m)\u001b[0m\u001b[0;34m\u001b[0m\u001b[0;34m\u001b[0m\u001b[0m\n\u001b[0m\u001b[1;32m      2\u001b[0m \u001b[0mcredits\u001b[0m \u001b[0;34m=\u001b[0m \u001b[0mpd\u001b[0m\u001b[0;34m.\u001b[0m\u001b[0mread_csv\u001b[0m\u001b[0;34m(\u001b[0m\u001b[0;34m'tmdb_5000_credits.csv'\u001b[0m\u001b[0;34m)\u001b[0m\u001b[0;34m\u001b[0m\u001b[0;34m\u001b[0m\u001b[0m\n",
            "\u001b[0;32m/usr/local/lib/python3.11/dist-packages/pandas/io/parsers/readers.py\u001b[0m in \u001b[0;36mread_csv\u001b[0;34m(filepath_or_buffer, sep, delimiter, header, names, index_col, usecols, dtype, engine, converters, true_values, false_values, skipinitialspace, skiprows, skipfooter, nrows, na_values, keep_default_na, na_filter, verbose, skip_blank_lines, parse_dates, infer_datetime_format, keep_date_col, date_parser, date_format, dayfirst, cache_dates, iterator, chunksize, compression, thousands, decimal, lineterminator, quotechar, quoting, doublequote, escapechar, comment, encoding, encoding_errors, dialect, on_bad_lines, delim_whitespace, low_memory, memory_map, float_precision, storage_options, dtype_backend)\u001b[0m\n\u001b[1;32m   1024\u001b[0m     \u001b[0mkwds\u001b[0m\u001b[0;34m.\u001b[0m\u001b[0mupdate\u001b[0m\u001b[0;34m(\u001b[0m\u001b[0mkwds_defaults\u001b[0m\u001b[0;34m)\u001b[0m\u001b[0;34m\u001b[0m\u001b[0;34m\u001b[0m\u001b[0m\n\u001b[1;32m   1025\u001b[0m \u001b[0;34m\u001b[0m\u001b[0m\n\u001b[0;32m-> 1026\u001b[0;31m     \u001b[0;32mreturn\u001b[0m \u001b[0m_read\u001b[0m\u001b[0;34m(\u001b[0m\u001b[0mfilepath_or_buffer\u001b[0m\u001b[0;34m,\u001b[0m \u001b[0mkwds\u001b[0m\u001b[0;34m)\u001b[0m\u001b[0;34m\u001b[0m\u001b[0;34m\u001b[0m\u001b[0m\n\u001b[0m\u001b[1;32m   1027\u001b[0m \u001b[0;34m\u001b[0m\u001b[0m\n\u001b[1;32m   1028\u001b[0m \u001b[0;34m\u001b[0m\u001b[0m\n",
            "\u001b[0;32m/usr/local/lib/python3.11/dist-packages/pandas/io/parsers/readers.py\u001b[0m in \u001b[0;36m_read\u001b[0;34m(filepath_or_buffer, kwds)\u001b[0m\n\u001b[1;32m    618\u001b[0m \u001b[0;34m\u001b[0m\u001b[0m\n\u001b[1;32m    619\u001b[0m     \u001b[0;31m# Create the parser.\u001b[0m\u001b[0;34m\u001b[0m\u001b[0;34m\u001b[0m\u001b[0m\n\u001b[0;32m--> 620\u001b[0;31m     \u001b[0mparser\u001b[0m \u001b[0;34m=\u001b[0m \u001b[0mTextFileReader\u001b[0m\u001b[0;34m(\u001b[0m\u001b[0mfilepath_or_buffer\u001b[0m\u001b[0;34m,\u001b[0m \u001b[0;34m**\u001b[0m\u001b[0mkwds\u001b[0m\u001b[0;34m)\u001b[0m\u001b[0;34m\u001b[0m\u001b[0;34m\u001b[0m\u001b[0m\n\u001b[0m\u001b[1;32m    621\u001b[0m \u001b[0;34m\u001b[0m\u001b[0m\n\u001b[1;32m    622\u001b[0m     \u001b[0;32mif\u001b[0m \u001b[0mchunksize\u001b[0m \u001b[0;32mor\u001b[0m \u001b[0miterator\u001b[0m\u001b[0;34m:\u001b[0m\u001b[0;34m\u001b[0m\u001b[0;34m\u001b[0m\u001b[0m\n",
            "\u001b[0;32m/usr/local/lib/python3.11/dist-packages/pandas/io/parsers/readers.py\u001b[0m in \u001b[0;36m__init__\u001b[0;34m(self, f, engine, **kwds)\u001b[0m\n\u001b[1;32m   1618\u001b[0m \u001b[0;34m\u001b[0m\u001b[0m\n\u001b[1;32m   1619\u001b[0m         \u001b[0mself\u001b[0m\u001b[0;34m.\u001b[0m\u001b[0mhandles\u001b[0m\u001b[0;34m:\u001b[0m \u001b[0mIOHandles\u001b[0m \u001b[0;34m|\u001b[0m \u001b[0;32mNone\u001b[0m \u001b[0;34m=\u001b[0m \u001b[0;32mNone\u001b[0m\u001b[0;34m\u001b[0m\u001b[0;34m\u001b[0m\u001b[0m\n\u001b[0;32m-> 1620\u001b[0;31m         \u001b[0mself\u001b[0m\u001b[0;34m.\u001b[0m\u001b[0m_engine\u001b[0m \u001b[0;34m=\u001b[0m \u001b[0mself\u001b[0m\u001b[0;34m.\u001b[0m\u001b[0m_make_engine\u001b[0m\u001b[0;34m(\u001b[0m\u001b[0mf\u001b[0m\u001b[0;34m,\u001b[0m \u001b[0mself\u001b[0m\u001b[0;34m.\u001b[0m\u001b[0mengine\u001b[0m\u001b[0;34m)\u001b[0m\u001b[0;34m\u001b[0m\u001b[0;34m\u001b[0m\u001b[0m\n\u001b[0m\u001b[1;32m   1621\u001b[0m \u001b[0;34m\u001b[0m\u001b[0m\n\u001b[1;32m   1622\u001b[0m     \u001b[0;32mdef\u001b[0m \u001b[0mclose\u001b[0m\u001b[0;34m(\u001b[0m\u001b[0mself\u001b[0m\u001b[0;34m)\u001b[0m \u001b[0;34m->\u001b[0m \u001b[0;32mNone\u001b[0m\u001b[0;34m:\u001b[0m\u001b[0;34m\u001b[0m\u001b[0;34m\u001b[0m\u001b[0m\n",
            "\u001b[0;32m/usr/local/lib/python3.11/dist-packages/pandas/io/parsers/readers.py\u001b[0m in \u001b[0;36m_make_engine\u001b[0;34m(self, f, engine)\u001b[0m\n\u001b[1;32m   1878\u001b[0m                 \u001b[0;32mif\u001b[0m \u001b[0;34m\"b\"\u001b[0m \u001b[0;32mnot\u001b[0m \u001b[0;32min\u001b[0m \u001b[0mmode\u001b[0m\u001b[0;34m:\u001b[0m\u001b[0;34m\u001b[0m\u001b[0;34m\u001b[0m\u001b[0m\n\u001b[1;32m   1879\u001b[0m                     \u001b[0mmode\u001b[0m \u001b[0;34m+=\u001b[0m \u001b[0;34m\"b\"\u001b[0m\u001b[0;34m\u001b[0m\u001b[0;34m\u001b[0m\u001b[0m\n\u001b[0;32m-> 1880\u001b[0;31m             self.handles = get_handle(\n\u001b[0m\u001b[1;32m   1881\u001b[0m                 \u001b[0mf\u001b[0m\u001b[0;34m,\u001b[0m\u001b[0;34m\u001b[0m\u001b[0;34m\u001b[0m\u001b[0m\n\u001b[1;32m   1882\u001b[0m                 \u001b[0mmode\u001b[0m\u001b[0;34m,\u001b[0m\u001b[0;34m\u001b[0m\u001b[0;34m\u001b[0m\u001b[0m\n",
            "\u001b[0;32m/usr/local/lib/python3.11/dist-packages/pandas/io/common.py\u001b[0m in \u001b[0;36mget_handle\u001b[0;34m(path_or_buf, mode, encoding, compression, memory_map, is_text, errors, storage_options)\u001b[0m\n\u001b[1;32m    871\u001b[0m         \u001b[0;32mif\u001b[0m \u001b[0mioargs\u001b[0m\u001b[0;34m.\u001b[0m\u001b[0mencoding\u001b[0m \u001b[0;32mand\u001b[0m \u001b[0;34m\"b\"\u001b[0m \u001b[0;32mnot\u001b[0m \u001b[0;32min\u001b[0m \u001b[0mioargs\u001b[0m\u001b[0;34m.\u001b[0m\u001b[0mmode\u001b[0m\u001b[0;34m:\u001b[0m\u001b[0;34m\u001b[0m\u001b[0;34m\u001b[0m\u001b[0m\n\u001b[1;32m    872\u001b[0m             \u001b[0;31m# Encoding\u001b[0m\u001b[0;34m\u001b[0m\u001b[0;34m\u001b[0m\u001b[0m\n\u001b[0;32m--> 873\u001b[0;31m             handle = open(\n\u001b[0m\u001b[1;32m    874\u001b[0m                 \u001b[0mhandle\u001b[0m\u001b[0;34m,\u001b[0m\u001b[0;34m\u001b[0m\u001b[0;34m\u001b[0m\u001b[0m\n\u001b[1;32m    875\u001b[0m                 \u001b[0mioargs\u001b[0m\u001b[0;34m.\u001b[0m\u001b[0mmode\u001b[0m\u001b[0;34m,\u001b[0m\u001b[0;34m\u001b[0m\u001b[0;34m\u001b[0m\u001b[0m\n",
            "\u001b[0;31mFileNotFoundError\u001b[0m: [Errno 2] No such file or directory: 'tmdb_5000_movies.csv'"
          ]
        }
      ],
      "source": [
        "movies = pd.read_csv('tmdb_5000_movies.csv')\n",
        "credits = pd.read_csv('tmdb_5000_credits.csv')"
      ]
    },
    {
      "cell_type": "markdown",
      "source": [
        "# New Section"
      ],
      "metadata": {
        "id": "oAVL_u-kwZ7T"
      },
      "id": "oAVL_u-kwZ7T"
    },
    {
      "cell_type": "code",
      "execution_count": null,
      "id": "8dece7cc",
      "metadata": {
        "execution": {
          "iopub.execute_input": "2023-10-18T17:04:06.750598Z",
          "iopub.status.busy": "2023-10-18T17:04:06.749389Z",
          "iopub.status.idle": "2023-10-18T17:04:06.778786Z",
          "shell.execute_reply": "2023-10-18T17:04:06.777721Z"
        },
        "papermill": {
          "duration": 0.043655,
          "end_time": "2023-10-18T17:04:06.780717",
          "exception": false,
          "start_time": "2023-10-18T17:04:06.737062",
          "status": "completed"
        },
        "tags": [],
        "id": "8dece7cc",
        "outputId": "7dc72187-32f9-4ad4-e607-de9e2d7f19c9"
      },
      "outputs": [
        {
          "name": "stdout",
          "output_type": "stream",
          "text": [
            "<class 'pandas.core.frame.DataFrame'>\n",
            "RangeIndex: 4804 entries, 0 to 4803\n",
            "Data columns (total 20 columns):\n",
            " #   Column                Non-Null Count  Dtype  \n",
            "---  ------                --------------  -----  \n",
            " 0   budget                4804 non-null   int64  \n",
            " 1   genres                4804 non-null   object \n",
            " 2   homepage              1712 non-null   object \n",
            " 3   id                    4804 non-null   int64  \n",
            " 4   keywords              4804 non-null   object \n",
            " 5   original_language     4804 non-null   object \n",
            " 6   original_title        4804 non-null   object \n",
            " 7   overview              4801 non-null   object \n",
            " 8   popularity            4804 non-null   float64\n",
            " 9   production_companies  4804 non-null   object \n",
            " 10  production_countries  4804 non-null   object \n",
            " 11  release_date          4803 non-null   object \n",
            " 12  revenue               4804 non-null   int64  \n",
            " 13  runtime               4802 non-null   float64\n",
            " 14  spoken_languages      4804 non-null   object \n",
            " 15  status                4804 non-null   object \n",
            " 16  tagline               3959 non-null   object \n",
            " 17  title                 4804 non-null   object \n",
            " 18  vote_average          4804 non-null   float64\n",
            " 19  vote_count            4804 non-null   int64  \n",
            "dtypes: float64(3), int64(4), object(13)\n",
            "memory usage: 750.8+ KB\n"
          ]
        }
      ],
      "source": [
        "movies.info()"
      ]
    },
    {
      "cell_type": "code",
      "source": [],
      "metadata": {
        "id": "W9cIk06Bwo3f"
      },
      "id": "W9cIk06Bwo3f",
      "execution_count": null,
      "outputs": []
    },
    {
      "cell_type": "code",
      "execution_count": null,
      "id": "7677883e",
      "metadata": {
        "id": "7677883e",
        "outputId": "bb223af1-0cad-4ef7-a544-a961579a4506"
      },
      "outputs": [
        {
          "name": "stdout",
          "output_type": "stream",
          "text": [
            "<class 'pandas.core.frame.DataFrame'>\n",
            "RangeIndex: 4803 entries, 0 to 4802\n",
            "Data columns (total 4 columns):\n",
            " #   Column    Non-Null Count  Dtype \n",
            "---  ------    --------------  ----- \n",
            " 0   movie_id  4803 non-null   int64 \n",
            " 1   title     4803 non-null   object\n",
            " 2   cast      4803 non-null   object\n",
            " 3   crew      4803 non-null   object\n",
            "dtypes: int64(1), object(3)\n",
            "memory usage: 150.2+ KB\n"
          ]
        }
      ],
      "source": [
        "credits.info()"
      ]
    },
    {
      "cell_type": "code",
      "execution_count": null,
      "id": "26d473ad",
      "metadata": {
        "execution": {
          "iopub.execute_input": "2023-10-18T17:04:06.804421Z",
          "iopub.status.busy": "2023-10-18T17:04:06.804102Z",
          "iopub.status.idle": "2023-10-18T17:04:06.814502Z",
          "shell.execute_reply": "2023-10-18T17:04:06.813510Z"
        },
        "papermill": {
          "duration": 0.02459,
          "end_time": "2023-10-18T17:04:06.816451",
          "exception": false,
          "start_time": "2023-10-18T17:04:06.791861",
          "status": "completed"
        },
        "tags": [],
        "id": "26d473ad",
        "outputId": "bb85fe91-51bf-4956-e14f-7f68e4b4bbfc"
      },
      "outputs": [
        {
          "data": {
            "text/html": [
              "<div>\n",
              "<style scoped>\n",
              "    .dataframe tbody tr th:only-of-type {\n",
              "        vertical-align: middle;\n",
              "    }\n",
              "\n",
              "    .dataframe tbody tr th {\n",
              "        vertical-align: top;\n",
              "    }\n",
              "\n",
              "    .dataframe thead th {\n",
              "        text-align: right;\n",
              "    }\n",
              "</style>\n",
              "<table border=\"1\" class=\"dataframe\">\n",
              "  <thead>\n",
              "    <tr style=\"text-align: right;\">\n",
              "      <th></th>\n",
              "      <th>movie_id</th>\n",
              "      <th>title</th>\n",
              "      <th>cast</th>\n",
              "      <th>crew</th>\n",
              "    </tr>\n",
              "  </thead>\n",
              "  <tbody>\n",
              "    <tr>\n",
              "      <th>0</th>\n",
              "      <td>19995</td>\n",
              "      <td>Avatar</td>\n",
              "      <td>[{\"cast_id\": 242, \"character\": \"Jake Sully\", \"...</td>\n",
              "      <td>[{\"credit_id\": \"52fe48009251416c750aca23\", \"de...</td>\n",
              "    </tr>\n",
              "    <tr>\n",
              "      <th>1</th>\n",
              "      <td>285</td>\n",
              "      <td>Pirates of the Caribbean: At World's End</td>\n",
              "      <td>[{\"cast_id\": 4, \"character\": \"Captain Jack Spa...</td>\n",
              "      <td>[{\"credit_id\": \"52fe4232c3a36847f800b579\", \"de...</td>\n",
              "    </tr>\n",
              "    <tr>\n",
              "      <th>2</th>\n",
              "      <td>206647</td>\n",
              "      <td>Spectre</td>\n",
              "      <td>[{\"cast_id\": 1, \"character\": \"James Bond\", \"cr...</td>\n",
              "      <td>[{\"credit_id\": \"54805967c3a36829b5002c41\", \"de...</td>\n",
              "    </tr>\n",
              "    <tr>\n",
              "      <th>3</th>\n",
              "      <td>49026</td>\n",
              "      <td>The Dark Knight Rises</td>\n",
              "      <td>[{\"cast_id\": 2, \"character\": \"Bruce Wayne / Ba...</td>\n",
              "      <td>[{\"credit_id\": \"52fe4781c3a36847f81398c3\", \"de...</td>\n",
              "    </tr>\n",
              "    <tr>\n",
              "      <th>4</th>\n",
              "      <td>49529</td>\n",
              "      <td>John Carter</td>\n",
              "      <td>[{\"cast_id\": 5, \"character\": \"John Carter\", \"c...</td>\n",
              "      <td>[{\"credit_id\": \"52fe479ac3a36847f813eaa3\", \"de...</td>\n",
              "    </tr>\n",
              "  </tbody>\n",
              "</table>\n",
              "</div>"
            ],
            "text/plain": [
              "   movie_id                                     title  \\\n",
              "0     19995                                    Avatar   \n",
              "1       285  Pirates of the Caribbean: At World's End   \n",
              "2    206647                                   Spectre   \n",
              "3     49026                     The Dark Knight Rises   \n",
              "4     49529                               John Carter   \n",
              "\n",
              "                                                cast  \\\n",
              "0  [{\"cast_id\": 242, \"character\": \"Jake Sully\", \"...   \n",
              "1  [{\"cast_id\": 4, \"character\": \"Captain Jack Spa...   \n",
              "2  [{\"cast_id\": 1, \"character\": \"James Bond\", \"cr...   \n",
              "3  [{\"cast_id\": 2, \"character\": \"Bruce Wayne / Ba...   \n",
              "4  [{\"cast_id\": 5, \"character\": \"John Carter\", \"c...   \n",
              "\n",
              "                                                crew  \n",
              "0  [{\"credit_id\": \"52fe48009251416c750aca23\", \"de...  \n",
              "1  [{\"credit_id\": \"52fe4232c3a36847f800b579\", \"de...  \n",
              "2  [{\"credit_id\": \"54805967c3a36829b5002c41\", \"de...  \n",
              "3  [{\"credit_id\": \"52fe4781c3a36847f81398c3\", \"de...  \n",
              "4  [{\"credit_id\": \"52fe479ac3a36847f813eaa3\", \"de...  "
            ]
          },
          "execution_count": 6,
          "metadata": {},
          "output_type": "execute_result"
        }
      ],
      "source": [
        "credits.head()"
      ]
    },
    {
      "cell_type": "code",
      "execution_count": null,
      "id": "09033caa",
      "metadata": {
        "execution": {
          "iopub.execute_input": "2023-10-18T17:04:06.842751Z",
          "iopub.status.busy": "2023-10-18T17:04:06.841882Z",
          "iopub.status.idle": "2023-10-18T17:04:06.873614Z",
          "shell.execute_reply": "2023-10-18T17:04:06.872715Z"
        },
        "papermill": {
          "duration": 0.04791,
          "end_time": "2023-10-18T17:04:06.876021",
          "exception": false,
          "start_time": "2023-10-18T17:04:06.828111",
          "status": "completed"
        },
        "tags": [],
        "id": "09033caa"
      },
      "outputs": [],
      "source": [
        "movies = movies.merge(credits,on='title')"
      ]
    },
    {
      "cell_type": "code",
      "execution_count": null,
      "id": "ba320ed2",
      "metadata": {
        "execution": {
          "iopub.execute_input": "2023-10-18T17:04:06.901114Z",
          "iopub.status.busy": "2023-10-18T17:04:06.900816Z",
          "iopub.status.idle": "2023-10-18T17:04:06.918513Z",
          "shell.execute_reply": "2023-10-18T17:04:06.917330Z"
        },
        "papermill": {
          "duration": 0.03271,
          "end_time": "2023-10-18T17:04:06.920582",
          "exception": false,
          "start_time": "2023-10-18T17:04:06.887872",
          "status": "completed"
        },
        "tags": [],
        "id": "ba320ed2",
        "outputId": "646a7294-9f09-46ab-cafa-01042e6d54be"
      },
      "outputs": [
        {
          "data": {
            "text/html": [
              "<div>\n",
              "<style scoped>\n",
              "    .dataframe tbody tr th:only-of-type {\n",
              "        vertical-align: middle;\n",
              "    }\n",
              "\n",
              "    .dataframe tbody tr th {\n",
              "        vertical-align: top;\n",
              "    }\n",
              "\n",
              "    .dataframe thead th {\n",
              "        text-align: right;\n",
              "    }\n",
              "</style>\n",
              "<table border=\"1\" class=\"dataframe\">\n",
              "  <thead>\n",
              "    <tr style=\"text-align: right;\">\n",
              "      <th></th>\n",
              "      <th>budget</th>\n",
              "      <th>genres</th>\n",
              "      <th>homepage</th>\n",
              "      <th>id</th>\n",
              "      <th>keywords</th>\n",
              "      <th>original_language</th>\n",
              "      <th>original_title</th>\n",
              "      <th>overview</th>\n",
              "      <th>popularity</th>\n",
              "      <th>production_companies</th>\n",
              "      <th>...</th>\n",
              "      <th>runtime</th>\n",
              "      <th>spoken_languages</th>\n",
              "      <th>status</th>\n",
              "      <th>tagline</th>\n",
              "      <th>title</th>\n",
              "      <th>vote_average</th>\n",
              "      <th>vote_count</th>\n",
              "      <th>movie_id</th>\n",
              "      <th>cast</th>\n",
              "      <th>crew</th>\n",
              "    </tr>\n",
              "  </thead>\n",
              "  <tbody>\n",
              "    <tr>\n",
              "      <th>0</th>\n",
              "      <td>237000000</td>\n",
              "      <td>[{\"id8\": 2, \"name\": \"Action\"}, {\"id\": 12, \"nam...</td>\n",
              "      <td>http://www.avatarmovie.com/</td>\n",
              "      <td>19995</td>\n",
              "      <td>[{\"id\": 1463, \"name\": \"culture clash\"}, {\"id\":...</td>\n",
              "      <td>en</td>\n",
              "      <td>Avatar</td>\n",
              "      <td>In the 22nd century, a paraplegic Marine is di...</td>\n",
              "      <td>150.437577</td>\n",
              "      <td>[{\"name\": \"Ingenious Film Partners\", \"id\": 289...</td>\n",
              "      <td>...</td>\n",
              "      <td>162.0</td>\n",
              "      <td>[{\"iso_639_1\": \"en\", \"name\": \"English\"}, {\"iso...</td>\n",
              "      <td>Released</td>\n",
              "      <td>Enter the World of Pandora.</td>\n",
              "      <td>Avatar</td>\n",
              "      <td>7.2</td>\n",
              "      <td>11800</td>\n",
              "      <td>19995</td>\n",
              "      <td>[{\"cast_id\": 242, \"character\": \"Jake Sully\", \"...</td>\n",
              "      <td>[{\"credit_id\": \"52fe48009251416c750aca23\", \"de...</td>\n",
              "    </tr>\n",
              "  </tbody>\n",
              "</table>\n",
              "<p>1 rows × 23 columns</p>\n",
              "</div>"
            ],
            "text/plain": [
              "      budget                                             genres  \\\n",
              "0  237000000  [{\"id8\": 2, \"name\": \"Action\"}, {\"id\": 12, \"nam...   \n",
              "\n",
              "                      homepage     id  \\\n",
              "0  http://www.avatarmovie.com/  19995   \n",
              "\n",
              "                                            keywords original_language  \\\n",
              "0  [{\"id\": 1463, \"name\": \"culture clash\"}, {\"id\":...                en   \n",
              "\n",
              "  original_title                                           overview  \\\n",
              "0         Avatar  In the 22nd century, a paraplegic Marine is di...   \n",
              "\n",
              "   popularity                               production_companies  ... runtime  \\\n",
              "0  150.437577  [{\"name\": \"Ingenious Film Partners\", \"id\": 289...  ...   162.0   \n",
              "\n",
              "                                    spoken_languages    status  \\\n",
              "0  [{\"iso_639_1\": \"en\", \"name\": \"English\"}, {\"iso...  Released   \n",
              "\n",
              "                       tagline   title vote_average vote_count movie_id  \\\n",
              "0  Enter the World of Pandora.  Avatar          7.2      11800    19995   \n",
              "\n",
              "                                                cast  \\\n",
              "0  [{\"cast_id\": 242, \"character\": \"Jake Sully\", \"...   \n",
              "\n",
              "                                                crew  \n",
              "0  [{\"credit_id\": \"52fe48009251416c750aca23\", \"de...  \n",
              "\n",
              "[1 rows x 23 columns]"
            ]
          },
          "execution_count": 8,
          "metadata": {},
          "output_type": "execute_result"
        }
      ],
      "source": [
        "movies.head(1)"
      ]
    },
    {
      "cell_type": "code",
      "execution_count": null,
      "id": "6968eca1",
      "metadata": {
        "execution": {
          "iopub.execute_input": "2023-10-18T17:04:06.947070Z",
          "iopub.status.busy": "2023-10-18T17:04:06.946311Z",
          "iopub.status.idle": "2023-10-18T17:04:06.956248Z",
          "shell.execute_reply": "2023-10-18T17:04:06.955495Z"
        },
        "papermill": {
          "duration": 0.025449,
          "end_time": "2023-10-18T17:04:06.958221",
          "exception": false,
          "start_time": "2023-10-18T17:04:06.932772",
          "status": "completed"
        },
        "tags": [],
        "id": "6968eca1",
        "outputId": "5ff56706-28e3-4ab6-e523-83cbc1de1097"
      },
      "outputs": [
        {
          "data": {
            "text/plain": [
              "original_language\n",
              "en    4511\n",
              "fr      70\n",
              "es      32\n",
              "zh      27\n",
              "de      27\n",
              "hi      19\n",
              "ja      16\n",
              "it      14\n",
              "ko      12\n",
              "cn      12\n",
              "ru      11\n",
              "pt       9\n",
              "da       7\n",
              "sv       5\n",
              "nl       4\n",
              "fa       4\n",
              "th       3\n",
              "he       3\n",
              "ta       2\n",
              "cs       2\n",
              "ro       2\n",
              "id       2\n",
              "ar       2\n",
              "vi       1\n",
              "sl       1\n",
              "ps       1\n",
              "no       1\n",
              "ky       1\n",
              "hu       1\n",
              "pl       1\n",
              "af       1\n",
              "nb       1\n",
              "tr       1\n",
              "is       1\n",
              "xx       1\n",
              "te       1\n",
              "el       1\n",
              "Name: count, dtype: int64"
            ]
          },
          "execution_count": 9,
          "metadata": {},
          "output_type": "execute_result"
        }
      ],
      "source": [
        "movies['original_language'].value_counts()"
      ]
    },
    {
      "cell_type": "code",
      "execution_count": null,
      "id": "ea93342a",
      "metadata": {
        "execution": {
          "iopub.execute_input": "2023-10-18T17:04:06.984446Z",
          "iopub.status.busy": "2023-10-18T17:04:06.984119Z",
          "iopub.status.idle": "2023-10-18T17:04:07.006800Z",
          "shell.execute_reply": "2023-10-18T17:04:07.005644Z"
        },
        "papermill": {
          "duration": 0.03912,
          "end_time": "2023-10-18T17:04:07.009696",
          "exception": false,
          "start_time": "2023-10-18T17:04:06.970576",
          "status": "completed"
        },
        "tags": [],
        "id": "ea93342a",
        "outputId": "b888666e-6d9e-4794-b490-1682f98732a5"
      },
      "outputs": [
        {
          "name": "stdout",
          "output_type": "stream",
          "text": [
            "<class 'pandas.core.frame.DataFrame'>\n",
            "RangeIndex: 4810 entries, 0 to 4809\n",
            "Data columns (total 23 columns):\n",
            " #   Column                Non-Null Count  Dtype  \n",
            "---  ------                --------------  -----  \n",
            " 0   budget                4810 non-null   int64  \n",
            " 1   genres                4810 non-null   object \n",
            " 2   homepage              1713 non-null   object \n",
            " 3   id                    4810 non-null   int64  \n",
            " 4   keywords              4810 non-null   object \n",
            " 5   original_language     4810 non-null   object \n",
            " 6   original_title        4810 non-null   object \n",
            " 7   overview              4807 non-null   object \n",
            " 8   popularity            4810 non-null   float64\n",
            " 9   production_companies  4810 non-null   object \n",
            " 10  production_countries  4810 non-null   object \n",
            " 11  release_date          4809 non-null   object \n",
            " 12  revenue               4810 non-null   int64  \n",
            " 13  runtime               4808 non-null   float64\n",
            " 14  spoken_languages      4810 non-null   object \n",
            " 15  status                4810 non-null   object \n",
            " 16  tagline               3965 non-null   object \n",
            " 17  title                 4810 non-null   object \n",
            " 18  vote_average          4810 non-null   float64\n",
            " 19  vote_count            4810 non-null   int64  \n",
            " 20  movie_id              4810 non-null   int64  \n",
            " 21  cast                  4810 non-null   object \n",
            " 22  crew                  4810 non-null   object \n",
            "dtypes: float64(3), int64(5), object(15)\n",
            "memory usage: 864.4+ KB\n"
          ]
        }
      ],
      "source": [
        "movies.info()"
      ]
    },
    {
      "cell_type": "markdown",
      "id": "dc4ade9a",
      "metadata": {
        "execution": {
          "iopub.execute_input": "2023-10-18T17:04:07.035666Z",
          "iopub.status.busy": "2023-10-18T17:04:07.035317Z",
          "iopub.status.idle": "2023-10-18T17:04:07.039563Z",
          "shell.execute_reply": "2023-10-18T17:04:07.038532Z"
        },
        "papermill": {
          "duration": 0.019363,
          "end_time": "2023-10-18T17:04:07.041360",
          "exception": false,
          "start_time": "2023-10-18T17:04:07.021997",
          "status": "completed"
        },
        "tags": [],
        "id": "dc4ade9a"
      },
      "source": [
        "columns which we will keep         \n",
        "genres, id, keywords, title, overview, cast, crew"
      ]
    },
    {
      "cell_type": "code",
      "execution_count": null,
      "id": "85a53f3f",
      "metadata": {
        "execution": {
          "iopub.execute_input": "2023-10-18T17:04:07.067525Z",
          "iopub.status.busy": "2023-10-18T17:04:07.066443Z",
          "iopub.status.idle": "2023-10-18T17:04:07.073358Z",
          "shell.execute_reply": "2023-10-18T17:04:07.072502Z"
        },
        "papermill": {
          "duration": 0.022071,
          "end_time": "2023-10-18T17:04:07.075555",
          "exception": false,
          "start_time": "2023-10-18T17:04:07.053484",
          "status": "completed"
        },
        "tags": [],
        "id": "85a53f3f",
        "outputId": "90763907-58e2-47d9-f27e-f18d84e86f8a"
      },
      "outputs": [
        {
          "data": {
            "text/html": [
              "<div>\n",
              "<style scoped>\n",
              "    .dataframe tbody tr th:only-of-type {\n",
              "        vertical-align: middle;\n",
              "    }\n",
              "\n",
              "    .dataframe tbody tr th {\n",
              "        vertical-align: top;\n",
              "    }\n",
              "\n",
              "    .dataframe thead th {\n",
              "        text-align: right;\n",
              "    }\n",
              "</style>\n",
              "<table border=\"1\" class=\"dataframe\">\n",
              "  <thead>\n",
              "    <tr style=\"text-align: right;\">\n",
              "      <th></th>\n",
              "      <th>genres</th>\n",
              "      <th>id</th>\n",
              "      <th>keywords</th>\n",
              "      <th>title</th>\n",
              "      <th>overview</th>\n",
              "      <th>cast</th>\n",
              "      <th>crew</th>\n",
              "    </tr>\n",
              "  </thead>\n",
              "  <tbody>\n",
              "    <tr>\n",
              "      <th>0</th>\n",
              "      <td>[{\"id8\": 2, \"name\": \"Action\"}, {\"id\": 12, \"nam...</td>\n",
              "      <td>19995</td>\n",
              "      <td>[{\"id\": 1463, \"name\": \"culture clash\"}, {\"id\":...</td>\n",
              "      <td>Avatar</td>\n",
              "      <td>In the 22nd century, a paraplegic Marine is di...</td>\n",
              "      <td>[{\"cast_id\": 242, \"character\": \"Jake Sully\", \"...</td>\n",
              "      <td>[{\"credit_id\": \"52fe48009251416c750aca23\", \"de...</td>\n",
              "    </tr>\n",
              "  </tbody>\n",
              "</table>\n",
              "</div>"
            ],
            "text/plain": [
              "                                              genres     id  \\\n",
              "0  [{\"id8\": 2, \"name\": \"Action\"}, {\"id\": 12, \"nam...  19995   \n",
              "\n",
              "                                            keywords   title  \\\n",
              "0  [{\"id\": 1463, \"name\": \"culture clash\"}, {\"id\":...  Avatar   \n",
              "\n",
              "                                            overview  \\\n",
              "0  In the 22nd century, a paraplegic Marine is di...   \n",
              "\n",
              "                                                cast  \\\n",
              "0  [{\"cast_id\": 242, \"character\": \"Jake Sully\", \"...   \n",
              "\n",
              "                                                crew  \n",
              "0  [{\"credit_id\": \"52fe48009251416c750aca23\", \"de...  "
            ]
          },
          "execution_count": 11,
          "metadata": {},
          "output_type": "execute_result"
        }
      ],
      "source": [
        "movies = movies[['genres','id','keywords','title','overview','cast','crew']]\n",
        "movies.head(1)"
      ]
    },
    {
      "cell_type": "code",
      "execution_count": null,
      "id": "11919745",
      "metadata": {
        "execution": {
          "iopub.execute_input": "2023-10-18T17:04:07.101693Z",
          "iopub.status.busy": "2023-10-18T17:04:07.101365Z",
          "iopub.status.idle": "2023-10-18T17:04:07.112009Z",
          "shell.execute_reply": "2023-10-18T17:04:07.111064Z"
        },
        "papermill": {
          "duration": 0.026114,
          "end_time": "2023-10-18T17:04:07.113947",
          "exception": false,
          "start_time": "2023-10-18T17:04:07.087833",
          "status": "completed"
        },
        "tags": [],
        "id": "11919745",
        "outputId": "a01fea8a-0770-4c6c-a290-285504a10c80"
      },
      "outputs": [
        {
          "data": {
            "text/plain": [
              "genres      0\n",
              "id          0\n",
              "keywords    0\n",
              "title       0\n",
              "overview    3\n",
              "cast        0\n",
              "crew        0\n",
              "dtype: int64"
            ]
          },
          "execution_count": 12,
          "metadata": {},
          "output_type": "execute_result"
        }
      ],
      "source": [
        "movies.isnull().sum()"
      ]
    },
    {
      "cell_type": "code",
      "execution_count": null,
      "id": "7a9afa90",
      "metadata": {
        "execution": {
          "iopub.execute_input": "2023-10-18T17:04:07.197294Z",
          "iopub.status.busy": "2023-10-18T17:04:07.196983Z",
          "iopub.status.idle": "2023-10-18T17:04:07.206539Z",
          "shell.execute_reply": "2023-10-18T17:04:07.205669Z"
        },
        "papermill": {
          "duration": 0.024878,
          "end_time": "2023-10-18T17:04:07.208320",
          "exception": false,
          "start_time": "2023-10-18T17:04:07.183442",
          "status": "completed"
        },
        "tags": [],
        "id": "7a9afa90"
      },
      "outputs": [],
      "source": [
        "movies.dropna(inplace=True)"
      ]
    },
    {
      "cell_type": "code",
      "execution_count": null,
      "id": "4fca1b7e",
      "metadata": {
        "execution": {
          "iopub.execute_input": "2023-10-18T17:04:07.235176Z",
          "iopub.status.busy": "2023-10-18T17:04:07.234216Z",
          "iopub.status.idle": "2023-10-18T17:04:07.245388Z",
          "shell.execute_reply": "2023-10-18T17:04:07.244385Z"
        },
        "papermill": {
          "duration": 0.026445,
          "end_time": "2023-10-18T17:04:07.247265",
          "exception": false,
          "start_time": "2023-10-18T17:04:07.220820",
          "status": "completed"
        },
        "tags": [],
        "id": "4fca1b7e",
        "outputId": "959b9ea3-2059-4200-8af1-0b9bec9e9cd9"
      },
      "outputs": [
        {
          "data": {
            "text/plain": [
              "genres      0\n",
              "id          0\n",
              "keywords    0\n",
              "title       0\n",
              "overview    0\n",
              "cast        0\n",
              "crew        0\n",
              "dtype: int64"
            ]
          },
          "execution_count": 14,
          "metadata": {},
          "output_type": "execute_result"
        }
      ],
      "source": [
        "movies.isnull().sum()"
      ]
    },
    {
      "cell_type": "markdown",
      "id": "27af5999",
      "metadata": {
        "id": "27af5999"
      },
      "source": [
        "To calculate sum of duplicate rows"
      ]
    },
    {
      "cell_type": "code",
      "execution_count": null,
      "id": "0c8159a3",
      "metadata": {
        "execution": {
          "iopub.execute_input": "2023-10-18T17:04:07.274107Z",
          "iopub.status.busy": "2023-10-18T17:04:07.273793Z",
          "iopub.status.idle": "2023-10-18T17:04:07.375772Z",
          "shell.execute_reply": "2023-10-18T17:04:07.374877Z"
        },
        "papermill": {
          "duration": 0.118061,
          "end_time": "2023-10-18T17:04:07.378112",
          "exception": false,
          "start_time": "2023-10-18T17:04:07.260051",
          "status": "completed"
        },
        "tags": [],
        "id": "0c8159a3",
        "outputId": "592f1b49-0b71-4f68-8a4f-13c7f6a696ce"
      },
      "outputs": [
        {
          "data": {
            "text/plain": [
              "1"
            ]
          },
          "execution_count": 15,
          "metadata": {},
          "output_type": "execute_result"
        }
      ],
      "source": [
        "movies.duplicated().sum()"
      ]
    },
    {
      "cell_type": "code",
      "execution_count": null,
      "id": "be84a45d",
      "metadata": {
        "id": "be84a45d",
        "outputId": "a53b3989-0135-4cd3-a7d9-745a85fee225"
      },
      "outputs": [
        {
          "data": {
            "text/html": [
              "<div>\n",
              "<style scoped>\n",
              "    .dataframe tbody tr th:only-of-type {\n",
              "        vertical-align: middle;\n",
              "    }\n",
              "\n",
              "    .dataframe tbody tr th {\n",
              "        vertical-align: top;\n",
              "    }\n",
              "\n",
              "    .dataframe thead th {\n",
              "        text-align: right;\n",
              "    }\n",
              "</style>\n",
              "<table border=\"1\" class=\"dataframe\">\n",
              "  <thead>\n",
              "    <tr style=\"text-align: right;\">\n",
              "      <th></th>\n",
              "      <th>genres</th>\n",
              "      <th>id</th>\n",
              "      <th>keywords</th>\n",
              "      <th>title</th>\n",
              "      <th>overview</th>\n",
              "      <th>cast</th>\n",
              "      <th>crew</th>\n",
              "    </tr>\n",
              "  </thead>\n",
              "  <tbody>\n",
              "    <tr>\n",
              "      <th>0</th>\n",
              "      <td>[{\"id8\": 2, \"name\": \"Action\"}, {\"id\": 12, \"nam...</td>\n",
              "      <td>19995</td>\n",
              "      <td>[{\"id\": 1463, \"name\": \"culture clash\"}, {\"id\":...</td>\n",
              "      <td>Avatar</td>\n",
              "      <td>In the 22nd century, a paraplegic Marine is di...</td>\n",
              "      <td>[{\"cast_id\": 242, \"character\": \"Jake Sully\", \"...</td>\n",
              "      <td>[{\"credit_id\": \"52fe48009251416c750aca23\", \"de...</td>\n",
              "    </tr>\n",
              "    <tr>\n",
              "      <th>1</th>\n",
              "      <td>[{\"id\": 12, \"name\": \"Adventure\"}, {\"id\": 14, \"...</td>\n",
              "      <td>285</td>\n",
              "      <td>[{\"id\": 270, \"name\": \"ocean\"}, {\"id\": 726, \"na...</td>\n",
              "      <td>Pirates of the Caribbean: At World's End</td>\n",
              "      <td>Captain Barbossa, long believed to be dead, ha...</td>\n",
              "      <td>[{\"cast_id\": 4, \"character\": \"Captain Jack Spa...</td>\n",
              "      <td>[{\"credit_id\": \"52fe4232c3a36847f800b579\", \"de...</td>\n",
              "    </tr>\n",
              "    <tr>\n",
              "      <th>2</th>\n",
              "      <td>[{\"id\": 28, \"name\": \"Action\"}, {\"id\": 12, \"nam...</td>\n",
              "      <td>206647</td>\n",
              "      <td>[{\"id\": 470, \"name\": \"spy\"}, {\"id\": 818, \"name...</td>\n",
              "      <td>Spectre</td>\n",
              "      <td>A cryptic message from Bond’s past sends him o...</td>\n",
              "      <td>[{\"cast_id\": 1, \"character\": \"James Bond\", \"cr...</td>\n",
              "      <td>[{\"credit_id\": \"54805967c3a36829b5002c41\", \"de...</td>\n",
              "    </tr>\n",
              "    <tr>\n",
              "      <th>3</th>\n",
              "      <td>[{\"id\": 28, \"name\": \"Action\"}, {\"id\": 80, \"nam...</td>\n",
              "      <td>49026</td>\n",
              "      <td>[{\"id\": 849, \"name\": \"dc comics\"}, {\"id\": 853,...</td>\n",
              "      <td>The Dark Knight Rises</td>\n",
              "      <td>Following the death of District Attorney Harve...</td>\n",
              "      <td>[{\"cast_id\": 2, \"character\": \"Bruce Wayne / Ba...</td>\n",
              "      <td>[{\"credit_id\": \"52fe4781c3a36847f81398c3\", \"de...</td>\n",
              "    </tr>\n",
              "    <tr>\n",
              "      <th>4</th>\n",
              "      <td>[{\"id\": 28, \"name\": \"Action\"}, {\"id\": 12, \"nam...</td>\n",
              "      <td>49529</td>\n",
              "      <td>[{\"id\": 818, \"name\": \"based on novel\"}, {\"id\":...</td>\n",
              "      <td>John Carter</td>\n",
              "      <td>John Carter is a war-weary, former military ca...</td>\n",
              "      <td>[{\"cast_id\": 5, \"character\": \"John Carter\", \"c...</td>\n",
              "      <td>[{\"credit_id\": \"52fe479ac3a36847f813eaa3\", \"de...</td>\n",
              "    </tr>\n",
              "  </tbody>\n",
              "</table>\n",
              "</div>"
            ],
            "text/plain": [
              "                                              genres      id  \\\n",
              "0  [{\"id8\": 2, \"name\": \"Action\"}, {\"id\": 12, \"nam...   19995   \n",
              "1  [{\"id\": 12, \"name\": \"Adventure\"}, {\"id\": 14, \"...     285   \n",
              "2  [{\"id\": 28, \"name\": \"Action\"}, {\"id\": 12, \"nam...  206647   \n",
              "3  [{\"id\": 28, \"name\": \"Action\"}, {\"id\": 80, \"nam...   49026   \n",
              "4  [{\"id\": 28, \"name\": \"Action\"}, {\"id\": 12, \"nam...   49529   \n",
              "\n",
              "                                            keywords  \\\n",
              "0  [{\"id\": 1463, \"name\": \"culture clash\"}, {\"id\":...   \n",
              "1  [{\"id\": 270, \"name\": \"ocean\"}, {\"id\": 726, \"na...   \n",
              "2  [{\"id\": 470, \"name\": \"spy\"}, {\"id\": 818, \"name...   \n",
              "3  [{\"id\": 849, \"name\": \"dc comics\"}, {\"id\": 853,...   \n",
              "4  [{\"id\": 818, \"name\": \"based on novel\"}, {\"id\":...   \n",
              "\n",
              "                                      title  \\\n",
              "0                                    Avatar   \n",
              "1  Pirates of the Caribbean: At World's End   \n",
              "2                                   Spectre   \n",
              "3                     The Dark Knight Rises   \n",
              "4                               John Carter   \n",
              "\n",
              "                                            overview  \\\n",
              "0  In the 22nd century, a paraplegic Marine is di...   \n",
              "1  Captain Barbossa, long believed to be dead, ha...   \n",
              "2  A cryptic message from Bond’s past sends him o...   \n",
              "3  Following the death of District Attorney Harve...   \n",
              "4  John Carter is a war-weary, former military ca...   \n",
              "\n",
              "                                                cast  \\\n",
              "0  [{\"cast_id\": 242, \"character\": \"Jake Sully\", \"...   \n",
              "1  [{\"cast_id\": 4, \"character\": \"Captain Jack Spa...   \n",
              "2  [{\"cast_id\": 1, \"character\": \"James Bond\", \"cr...   \n",
              "3  [{\"cast_id\": 2, \"character\": \"Bruce Wayne / Ba...   \n",
              "4  [{\"cast_id\": 5, \"character\": \"John Carter\", \"c...   \n",
              "\n",
              "                                                crew  \n",
              "0  [{\"credit_id\": \"52fe48009251416c750aca23\", \"de...  \n",
              "1  [{\"credit_id\": \"52fe4232c3a36847f800b579\", \"de...  \n",
              "2  [{\"credit_id\": \"54805967c3a36829b5002c41\", \"de...  \n",
              "3  [{\"credit_id\": \"52fe4781c3a36847f81398c3\", \"de...  \n",
              "4  [{\"credit_id\": \"52fe479ac3a36847f813eaa3\", \"de...  "
            ]
          },
          "execution_count": 16,
          "metadata": {},
          "output_type": "execute_result"
        }
      ],
      "source": [
        "movies.head()"
      ]
    },
    {
      "cell_type": "code",
      "execution_count": null,
      "id": "4a0bbbc9",
      "metadata": {
        "execution": {
          "iopub.execute_input": "2023-10-18T17:04:07.404781Z",
          "iopub.status.busy": "2023-10-18T17:04:07.404422Z",
          "iopub.status.idle": "2023-10-18T17:04:07.411458Z",
          "shell.execute_reply": "2023-10-18T17:04:07.410385Z"
        },
        "papermill": {
          "duration": 0.022796,
          "end_time": "2023-10-18T17:04:07.413640",
          "exception": false,
          "start_time": "2023-10-18T17:04:07.390844",
          "status": "completed"
        },
        "tags": [],
        "id": "4a0bbbc9",
        "outputId": "60815305-0271-4241-a7e7-144cd14d60b9"
      },
      "outputs": [
        {
          "data": {
            "text/plain": [
              "'[{\"id\": 1463, \"name\": \"culture clash\"}, {\"id\": 2964, \"name\": \"future\"}, {\"id\": 3386, \"name\": \"space war\"}, {\"id\": 3388, \"name\": \"space colony\"}, {\"id\": 3679, \"name\": \"society\"}, {\"id\": 3801, \"name\": \"space travel\"}, {\"id\": 9685, \"name\": \"futuristic\"}, {\"id\": 9840, \"name\": \"romance\"}, {\"id\": 9882, \"name\": \"space\"}, {\"id\": 9951, \"name\": \"alien\"}, {\"id\": 10148, \"name\": \"tribe\"}, {\"id\": 10158, \"name\": \"alien planet\"}, {\"id\": 10987, \"name\": \"cgi\"}, {\"id\": 11399, \"name\": \"marine\"}, {\"id\": 13065, \"name\": \"soldier\"}, {\"id\": 14643, \"name\": \"battle\"}, {\"id\": 14720, \"name\": \"love affair\"}, {\"id\": 165431, \"name\": \"anti war\"}, {\"id\": 193554, \"name\": \"power relations\"}, {\"id\": 206690, \"name\": \"mind and soul\"}, {\"id\": 209714, \"name\": \"3d\"}]'"
            ]
          },
          "execution_count": 17,
          "metadata": {},
          "output_type": "execute_result"
        }
      ],
      "source": [
        "movies.iloc[0].keywords"
      ]
    },
    {
      "cell_type": "markdown",
      "id": "44f7a294",
      "metadata": {
        "execution": {
          "iopub.execute_input": "2023-10-18T17:04:07.441242Z",
          "iopub.status.busy": "2023-10-18T17:04:07.440673Z",
          "iopub.status.idle": "2023-10-18T17:04:07.444722Z",
          "shell.execute_reply": "2023-10-18T17:04:07.444038Z"
        },
        "papermill": {
          "duration": 0.020142,
          "end_time": "2023-10-18T17:04:07.446563",
          "exception": false,
          "start_time": "2023-10-18T17:04:07.426421",
          "status": "completed"
        },
        "tags": [],
        "id": "44f7a294"
      },
      "source": [
        "A module in python to convert a string of list INTO list          \n",
        "example : '[{\"name\": \"Alice\"}, {\"name\": \"Bob\"}]'-->[{\"name\": \"Alice\"}, {\"name\": \"Bob\"}]"
      ]
    },
    {
      "cell_type": "code",
      "execution_count": null,
      "id": "2fa8ce59",
      "metadata": {
        "execution": {
          "iopub.execute_input": "2023-10-18T17:04:07.473461Z",
          "iopub.status.busy": "2023-10-18T17:04:07.473109Z",
          "iopub.status.idle": "2023-10-18T17:04:07.476781Z",
          "shell.execute_reply": "2023-10-18T17:04:07.475778Z"
        },
        "papermill": {
          "duration": 0.019511,
          "end_time": "2023-10-18T17:04:07.478697",
          "exception": false,
          "start_time": "2023-10-18T17:04:07.459186",
          "status": "completed"
        },
        "tags": [],
        "id": "2fa8ce59"
      },
      "outputs": [],
      "source": [
        "import ast"
      ]
    },
    {
      "cell_type": "code",
      "execution_count": null,
      "id": "8b9d7588",
      "metadata": {
        "execution": {
          "iopub.execute_input": "2023-10-18T17:04:07.505661Z",
          "iopub.status.busy": "2023-10-18T17:04:07.505275Z",
          "iopub.status.idle": "2023-10-18T17:04:07.510235Z",
          "shell.execute_reply": "2023-10-18T17:04:07.509271Z"
        },
        "papermill": {
          "duration": 0.020742,
          "end_time": "2023-10-18T17:04:07.512276",
          "exception": false,
          "start_time": "2023-10-18T17:04:07.491534",
          "status": "completed"
        },
        "tags": [],
        "id": "8b9d7588"
      },
      "outputs": [],
      "source": [
        "def convert(obj):\n",
        "    L = []\n",
        "    for i in ast.literal_eval(obj):\n",
        "        L.append(i['name'])\n",
        "    return L\n"
      ]
    },
    {
      "cell_type": "code",
      "execution_count": null,
      "id": "a527b0c3",
      "metadata": {
        "execution": {
          "iopub.execute_input": "2023-10-18T17:04:07.540499Z",
          "iopub.status.busy": "2023-10-18T17:04:07.540114Z",
          "iopub.status.idle": "2023-10-18T17:04:07.692766Z",
          "shell.execute_reply": "2023-10-18T17:04:07.691695Z"
        },
        "papermill": {
          "duration": 0.169107,
          "end_time": "2023-10-18T17:04:07.695059",
          "exception": false,
          "start_time": "2023-10-18T17:04:07.525952",
          "status": "completed"
        },
        "tags": [],
        "id": "a527b0c3"
      },
      "outputs": [],
      "source": [
        "movies['genres'] = movies['genres'].apply(convert)"
      ]
    },
    {
      "cell_type": "code",
      "execution_count": null,
      "id": "5cf0364a",
      "metadata": {
        "execution": {
          "iopub.execute_input": "2023-10-18T17:04:07.722819Z",
          "iopub.status.busy": "2023-10-18T17:04:07.721914Z",
          "iopub.status.idle": "2023-10-18T17:04:07.728120Z",
          "shell.execute_reply": "2023-10-18T17:04:07.727387Z"
        },
        "papermill": {
          "duration": 0.021779,
          "end_time": "2023-10-18T17:04:07.729837",
          "exception": false,
          "start_time": "2023-10-18T17:04:07.708058",
          "status": "completed"
        },
        "tags": [],
        "id": "5cf0364a",
        "outputId": "d78702bf-fea3-4f31-c0ea-eb6fabdf282e"
      },
      "outputs": [
        {
          "data": {
            "text/plain": [
              "['Action', 'Adventure', 'Fantasy', 'Science Fiction']"
            ]
          },
          "execution_count": 21,
          "metadata": {},
          "output_type": "execute_result"
        }
      ],
      "source": [
        "movies.iloc[0].genres"
      ]
    },
    {
      "cell_type": "code",
      "execution_count": null,
      "id": "ca0d2721",
      "metadata": {
        "execution": {
          "iopub.execute_input": "2023-10-18T17:04:07.757917Z",
          "iopub.status.busy": "2023-10-18T17:04:07.757338Z",
          "iopub.status.idle": "2023-10-18T17:04:08.137248Z",
          "shell.execute_reply": "2023-10-18T17:04:08.136545Z"
        },
        "papermill": {
          "duration": 0.396601,
          "end_time": "2023-10-18T17:04:08.139703",
          "exception": false,
          "start_time": "2023-10-18T17:04:07.743102",
          "status": "completed"
        },
        "tags": [],
        "id": "ca0d2721"
      },
      "outputs": [],
      "source": [
        "movies['keywords'] = movies['keywords'].apply(convert)"
      ]
    },
    {
      "cell_type": "code",
      "execution_count": null,
      "id": "fa0c0c99",
      "metadata": {
        "execution": {
          "iopub.execute_input": "2023-10-18T17:04:08.168692Z",
          "iopub.status.busy": "2023-10-18T17:04:08.167843Z",
          "iopub.status.idle": "2023-10-18T17:04:08.174559Z",
          "shell.execute_reply": "2023-10-18T17:04:08.173651Z"
        },
        "papermill": {
          "duration": 0.023352,
          "end_time": "2023-10-18T17:04:08.176819",
          "exception": false,
          "start_time": "2023-10-18T17:04:08.153467",
          "status": "completed"
        },
        "tags": [],
        "id": "fa0c0c99",
        "outputId": "398f4279-85bd-4b48-a92b-c374767667ec"
      },
      "outputs": [
        {
          "data": {
            "text/plain": [
              "'[{\"cast_id\": 242, \"character\": \"Jake Sully\", \"credit_id\": \"5602a8a7c3a3685532001c9a\", \"gender\": 2, \"id\": 65731, \"name\": \"Sam Worthington\", \"order\": 0}, {\"cast_id\": 3, \"character\": \"Neytiri\", \"credit_id\": \"52fe48009251416c750ac9cb\", \"gender\": 1, \"id\": 8691, \"name\": \"Zoe Saldana\", \"order\": 1}, {\"cast_id\": 25, \"character\": \"Dr. Grace Augustine\", \"credit_id\": \"52fe48009251416c750aca39\", \"gender\": 1, \"id\": 10205, \"name\": \"Sigourney Weaver\", \"order\": 2}, {\"cast_id\": 4, \"character\": \"Col. Quaritch\", \"credit_id\": \"52fe48009251416c750ac9cf\", \"gender\": 2, \"id\": 32747, \"name\": \"Stephen Lang\", \"order\": 3}, {\"cast_id\": 5, \"character\": \"Trudy Chacon\", \"credit_id\": \"52fe48009251416c750ac9d3\", \"gender\": 1, \"id\": 17647, \"name\": \"Michelle Rodriguez\", \"order\": 4}, {\"cast_id\": 8, \"character\": \"Selfridge\", \"credit_id\": \"52fe48009251416c750ac9e1\", \"gender\": 2, \"id\": 1771, \"name\": \"Giovanni Ribisi\", \"order\": 5}, {\"cast_id\": 7, \"character\": \"Norm Spellman\", \"credit_id\": \"52fe48009251416c750ac9dd\", \"gender\": 2, \"id\": 59231, \"name\": \"Joel David Moore\", \"order\": 6}, {\"cast_id\": 9, \"character\": \"Moat\", \"credit_id\": \"52fe48009251416c750ac9e5\", \"gender\": 1, \"id\": 30485, \"name\": \"CCH Pounder\", \"order\": 7}, {\"cast_id\": 11, \"character\": \"Eytukan\", \"credit_id\": \"52fe48009251416c750ac9ed\", \"gender\": 2, \"id\": 15853, \"name\": \"Wes Studi\", \"order\": 8}, {\"cast_id\": 10, \"character\": \"Tsu\\'Tey\", \"credit_id\": \"52fe48009251416c750ac9e9\", \"gender\": 2, \"id\": 10964, \"name\": \"Laz Alonso\", \"order\": 9}, {\"cast_id\": 12, \"character\": \"Dr. Max Patel\", \"credit_id\": \"52fe48009251416c750ac9f1\", \"gender\": 2, \"id\": 95697, \"name\": \"Dileep Rao\", \"order\": 10}, {\"cast_id\": 13, \"character\": \"Lyle Wainfleet\", \"credit_id\": \"52fe48009251416c750ac9f5\", \"gender\": 2, \"id\": 98215, \"name\": \"Matt Gerald\", \"order\": 11}, {\"cast_id\": 32, \"character\": \"Private Fike\", \"credit_id\": \"52fe48009251416c750aca5b\", \"gender\": 2, \"id\": 154153, \"name\": \"Sean Anthony Moran\", \"order\": 12}, {\"cast_id\": 33, \"character\": \"Cryo Vault Med Tech\", \"credit_id\": \"52fe48009251416c750aca5f\", \"gender\": 2, \"id\": 397312, \"name\": \"Jason Whyte\", \"order\": 13}, {\"cast_id\": 34, \"character\": \"Venture Star Crew Chief\", \"credit_id\": \"52fe48009251416c750aca63\", \"gender\": 2, \"id\": 42317, \"name\": \"Scott Lawrence\", \"order\": 14}, {\"cast_id\": 35, \"character\": \"Lock Up Trooper\", \"credit_id\": \"52fe48009251416c750aca67\", \"gender\": 2, \"id\": 986734, \"name\": \"Kelly Kilgour\", \"order\": 15}, {\"cast_id\": 36, \"character\": \"Shuttle Pilot\", \"credit_id\": \"52fe48009251416c750aca6b\", \"gender\": 0, \"id\": 1207227, \"name\": \"James Patrick Pitt\", \"order\": 16}, {\"cast_id\": 37, \"character\": \"Shuttle Co-Pilot\", \"credit_id\": \"52fe48009251416c750aca6f\", \"gender\": 0, \"id\": 1180936, \"name\": \"Sean Patrick Murphy\", \"order\": 17}, {\"cast_id\": 38, \"character\": \"Shuttle Crew Chief\", \"credit_id\": \"52fe48009251416c750aca73\", \"gender\": 2, \"id\": 1019578, \"name\": \"Peter Dillon\", \"order\": 18}, {\"cast_id\": 39, \"character\": \"Tractor Operator / Troupe\", \"credit_id\": \"52fe48009251416c750aca77\", \"gender\": 0, \"id\": 91443, \"name\": \"Kevin Dorman\", \"order\": 19}, {\"cast_id\": 40, \"character\": \"Dragon Gunship Pilot\", \"credit_id\": \"52fe48009251416c750aca7b\", \"gender\": 2, \"id\": 173391, \"name\": \"Kelson Henderson\", \"order\": 20}, {\"cast_id\": 41, \"character\": \"Dragon Gunship Gunner\", \"credit_id\": \"52fe48009251416c750aca7f\", \"gender\": 0, \"id\": 1207236, \"name\": \"David Van Horn\", \"order\": 21}, {\"cast_id\": 42, \"character\": \"Dragon Gunship Navigator\", \"credit_id\": \"52fe48009251416c750aca83\", \"gender\": 0, \"id\": 215913, \"name\": \"Jacob Tomuri\", \"order\": 22}, {\"cast_id\": 43, \"character\": \"Suit #1\", \"credit_id\": \"52fe48009251416c750aca87\", \"gender\": 0, \"id\": 143206, \"name\": \"Michael Blain-Rozgay\", \"order\": 23}, {\"cast_id\": 44, \"character\": \"Suit #2\", \"credit_id\": \"52fe48009251416c750aca8b\", \"gender\": 2, \"id\": 169676, \"name\": \"Jon Curry\", \"order\": 24}, {\"cast_id\": 46, \"character\": \"Ambient Room Tech\", \"credit_id\": \"52fe48009251416c750aca8f\", \"gender\": 0, \"id\": 1048610, \"name\": \"Luke Hawker\", \"order\": 25}, {\"cast_id\": 47, \"character\": \"Ambient Room Tech / Troupe\", \"credit_id\": \"52fe48009251416c750aca93\", \"gender\": 0, \"id\": 42288, \"name\": \"Woody Schultz\", \"order\": 26}, {\"cast_id\": 48, \"character\": \"Horse Clan Leader\", \"credit_id\": \"52fe48009251416c750aca97\", \"gender\": 2, \"id\": 68278, \"name\": \"Peter Mensah\", \"order\": 27}, {\"cast_id\": 49, \"character\": \"Link Room Tech\", \"credit_id\": \"52fe48009251416c750aca9b\", \"gender\": 0, \"id\": 1207247, \"name\": \"Sonia Yee\", \"order\": 28}, {\"cast_id\": 50, \"character\": \"Basketball Avatar / Troupe\", \"credit_id\": \"52fe48009251416c750aca9f\", \"gender\": 1, \"id\": 1207248, \"name\": \"Jahnel Curfman\", \"order\": 29}, {\"cast_id\": 51, \"character\": \"Basketball Avatar\", \"credit_id\": \"52fe48009251416c750acaa3\", \"gender\": 0, \"id\": 89714, \"name\": \"Ilram Choi\", \"order\": 30}, {\"cast_id\": 52, \"character\": \"Na\\'vi Child\", \"credit_id\": \"52fe48009251416c750acaa7\", \"gender\": 0, \"id\": 1207249, \"name\": \"Kyla Warren\", \"order\": 31}, {\"cast_id\": 53, \"character\": \"Troupe\", \"credit_id\": \"52fe48009251416c750acaab\", \"gender\": 0, \"id\": 1207250, \"name\": \"Lisa Roumain\", \"order\": 32}, {\"cast_id\": 54, \"character\": \"Troupe\", \"credit_id\": \"52fe48009251416c750acaaf\", \"gender\": 1, \"id\": 83105, \"name\": \"Debra Wilson\", \"order\": 33}, {\"cast_id\": 57, \"character\": \"Troupe\", \"credit_id\": \"52fe48009251416c750acabb\", \"gender\": 0, \"id\": 1207253, \"name\": \"Chris Mala\", \"order\": 34}, {\"cast_id\": 55, \"character\": \"Troupe\", \"credit_id\": \"52fe48009251416c750acab3\", \"gender\": 0, \"id\": 1207251, \"name\": \"Taylor Kibby\", \"order\": 35}, {\"cast_id\": 56, \"character\": \"Troupe\", \"credit_id\": \"52fe48009251416c750acab7\", \"gender\": 0, \"id\": 1207252, \"name\": \"Jodie Landau\", \"order\": 36}, {\"cast_id\": 58, \"character\": \"Troupe\", \"credit_id\": \"52fe48009251416c750acabf\", \"gender\": 0, \"id\": 1207254, \"name\": \"Julie Lamm\", \"order\": 37}, {\"cast_id\": 59, \"character\": \"Troupe\", \"credit_id\": \"52fe48009251416c750acac3\", \"gender\": 0, \"id\": 1207257, \"name\": \"Cullen B. Madden\", \"order\": 38}, {\"cast_id\": 60, \"character\": \"Troupe\", \"credit_id\": \"52fe48009251416c750acac7\", \"gender\": 0, \"id\": 1207259, \"name\": \"Joseph Brady Madden\", \"order\": 39}, {\"cast_id\": 61, \"character\": \"Troupe\", \"credit_id\": \"52fe48009251416c750acacb\", \"gender\": 0, \"id\": 1207262, \"name\": \"Frankie Torres\", \"order\": 40}, {\"cast_id\": 62, \"character\": \"Troupe\", \"credit_id\": \"52fe48009251416c750acacf\", \"gender\": 1, \"id\": 1158600, \"name\": \"Austin Wilson\", \"order\": 41}, {\"cast_id\": 63, \"character\": \"Troupe\", \"credit_id\": \"52fe48019251416c750acad3\", \"gender\": 1, \"id\": 983705, \"name\": \"Sara Wilson\", \"order\": 42}, {\"cast_id\": 64, \"character\": \"Troupe\", \"credit_id\": \"52fe48019251416c750acad7\", \"gender\": 0, \"id\": 1207263, \"name\": \"Tamica Washington-Miller\", \"order\": 43}, {\"cast_id\": 65, \"character\": \"Op Center Staff\", \"credit_id\": \"52fe48019251416c750acadb\", \"gender\": 1, \"id\": 1145098, \"name\": \"Lucy Briant\", \"order\": 44}, {\"cast_id\": 66, \"character\": \"Op Center Staff\", \"credit_id\": \"52fe48019251416c750acadf\", \"gender\": 2, \"id\": 33305, \"name\": \"Nathan Meister\", \"order\": 45}, {\"cast_id\": 67, \"character\": \"Op Center Staff\", \"credit_id\": \"52fe48019251416c750acae3\", \"gender\": 0, \"id\": 1207264, \"name\": \"Gerry Blair\", \"order\": 46}, {\"cast_id\": 68, \"character\": \"Op Center Staff\", \"credit_id\": \"52fe48019251416c750acae7\", \"gender\": 2, \"id\": 33311, \"name\": \"Matthew Chamberlain\", \"order\": 47}, {\"cast_id\": 69, \"character\": \"Op Center Staff\", \"credit_id\": \"52fe48019251416c750acaeb\", \"gender\": 0, \"id\": 1207265, \"name\": \"Paul Yates\", \"order\": 48}, {\"cast_id\": 70, \"character\": \"Op Center Duty Officer\", \"credit_id\": \"52fe48019251416c750acaef\", \"gender\": 0, \"id\": 1207266, \"name\": \"Wray Wilson\", \"order\": 49}, {\"cast_id\": 71, \"character\": \"Op Center Staff\", \"credit_id\": \"52fe48019251416c750acaf3\", \"gender\": 2, \"id\": 54492, \"name\": \"James Gaylyn\", \"order\": 50}, {\"cast_id\": 72, \"character\": \"Dancer\", \"credit_id\": \"52fe48019251416c750acaf7\", \"gender\": 0, \"id\": 1207267, \"name\": \"Melvin Leno Clark III\", \"order\": 51}, {\"cast_id\": 73, \"character\": \"Dancer\", \"credit_id\": \"52fe48019251416c750acafb\", \"gender\": 0, \"id\": 1207268, \"name\": \"Carvon Futrell\", \"order\": 52}, {\"cast_id\": 74, \"character\": \"Dancer\", \"credit_id\": \"52fe48019251416c750acaff\", \"gender\": 0, \"id\": 1207269, \"name\": \"Brandon Jelkes\", \"order\": 53}, {\"cast_id\": 75, \"character\": \"Dancer\", \"credit_id\": \"52fe48019251416c750acb03\", \"gender\": 0, \"id\": 1207270, \"name\": \"Micah Moch\", \"order\": 54}, {\"cast_id\": 76, \"character\": \"Dancer\", \"credit_id\": \"52fe48019251416c750acb07\", \"gender\": 0, \"id\": 1207271, \"name\": \"Hanniyah Muhammad\", \"order\": 55}, {\"cast_id\": 77, \"character\": \"Dancer\", \"credit_id\": \"52fe48019251416c750acb0b\", \"gender\": 0, \"id\": 1207272, \"name\": \"Christopher Nolen\", \"order\": 56}, {\"cast_id\": 78, \"character\": \"Dancer\", \"credit_id\": \"52fe48019251416c750acb0f\", \"gender\": 0, \"id\": 1207273, \"name\": \"Christa Oliver\", \"order\": 57}, {\"cast_id\": 79, \"character\": \"Dancer\", \"credit_id\": \"52fe48019251416c750acb13\", \"gender\": 0, \"id\": 1207274, \"name\": \"April Marie Thomas\", \"order\": 58}, {\"cast_id\": 80, \"character\": \"Dancer\", \"credit_id\": \"52fe48019251416c750acb17\", \"gender\": 0, \"id\": 1207275, \"name\": \"Bravita A. Threatt\", \"order\": 59}, {\"cast_id\": 81, \"character\": \"Mining Chief (uncredited)\", \"credit_id\": \"52fe48019251416c750acb1b\", \"gender\": 0, \"id\": 1207276, \"name\": \"Colin Bleasdale\", \"order\": 60}, {\"cast_id\": 82, \"character\": \"Veteran Miner (uncredited)\", \"credit_id\": \"52fe48019251416c750acb1f\", \"gender\": 0, \"id\": 107969, \"name\": \"Mike Bodnar\", \"order\": 61}, {\"cast_id\": 83, \"character\": \"Richard (uncredited)\", \"credit_id\": \"52fe48019251416c750acb23\", \"gender\": 0, \"id\": 1207278, \"name\": \"Matt Clayton\", \"order\": 62}, {\"cast_id\": 84, \"character\": \"Nav\\'i (uncredited)\", \"credit_id\": \"52fe48019251416c750acb27\", \"gender\": 1, \"id\": 147898, \"name\": \"Nicole Dionne\", \"order\": 63}, {\"cast_id\": 85, \"character\": \"Trooper (uncredited)\", \"credit_id\": \"52fe48019251416c750acb2b\", \"gender\": 0, \"id\": 1207280, \"name\": \"Jamie Harrison\", \"order\": 64}, {\"cast_id\": 86, \"character\": \"Trooper (uncredited)\", \"credit_id\": \"52fe48019251416c750acb2f\", \"gender\": 0, \"id\": 1207281, \"name\": \"Allan Henry\", \"order\": 65}, {\"cast_id\": 87, \"character\": \"Ground Technician (uncredited)\", \"credit_id\": \"52fe48019251416c750acb33\", \"gender\": 2, \"id\": 1207282, \"name\": \"Anthony Ingruber\", \"order\": 66}, {\"cast_id\": 88, \"character\": \"Flight Crew Mechanic (uncredited)\", \"credit_id\": \"52fe48019251416c750acb37\", \"gender\": 0, \"id\": 1207283, \"name\": \"Ashley Jeffery\", \"order\": 67}, {\"cast_id\": 14, \"character\": \"Samson Pilot\", \"credit_id\": \"52fe48009251416c750ac9f9\", \"gender\": 0, \"id\": 98216, \"name\": \"Dean Knowsley\", \"order\": 68}, {\"cast_id\": 89, \"character\": \"Trooper (uncredited)\", \"credit_id\": \"52fe48019251416c750acb3b\", \"gender\": 0, \"id\": 1201399, \"name\": \"Joseph Mika-Hunt\", \"order\": 69}, {\"cast_id\": 90, \"character\": \"Banshee (uncredited)\", \"credit_id\": \"52fe48019251416c750acb3f\", \"gender\": 0, \"id\": 236696, \"name\": \"Terry Notary\", \"order\": 70}, {\"cast_id\": 91, \"character\": \"Soldier (uncredited)\", \"credit_id\": \"52fe48019251416c750acb43\", \"gender\": 0, \"id\": 1207287, \"name\": \"Kai Pantano\", \"order\": 71}, {\"cast_id\": 92, \"character\": \"Blast Technician (uncredited)\", \"credit_id\": \"52fe48019251416c750acb47\", \"gender\": 0, \"id\": 1207288, \"name\": \"Logan Pithyou\", \"order\": 72}, {\"cast_id\": 93, \"character\": \"Vindum Raah (uncredited)\", \"credit_id\": \"52fe48019251416c750acb4b\", \"gender\": 0, \"id\": 1207289, \"name\": \"Stuart Pollock\", \"order\": 73}, {\"cast_id\": 94, \"character\": \"Hero (uncredited)\", \"credit_id\": \"52fe48019251416c750acb4f\", \"gender\": 0, \"id\": 584868, \"name\": \"Raja\", \"order\": 74}, {\"cast_id\": 95, \"character\": \"Ops Centreworker (uncredited)\", \"credit_id\": \"52fe48019251416c750acb53\", \"gender\": 0, \"id\": 1207290, \"name\": \"Gareth Ruck\", \"order\": 75}, {\"cast_id\": 96, \"character\": \"Engineer (uncredited)\", \"credit_id\": \"52fe48019251416c750acb57\", \"gender\": 0, \"id\": 1062463, \"name\": \"Rhian Sheehan\", \"order\": 76}, {\"cast_id\": 97, \"character\": \"Col. Quaritch\\'s Mech Suit (uncredited)\", \"credit_id\": \"52fe48019251416c750acb5b\", \"gender\": 0, \"id\": 60656, \"name\": \"T. J. Storm\", \"order\": 77}, {\"cast_id\": 98, \"character\": \"Female Marine (uncredited)\", \"credit_id\": \"52fe48019251416c750acb5f\", \"gender\": 0, \"id\": 1207291, \"name\": \"Jodie Taylor\", \"order\": 78}, {\"cast_id\": 99, \"character\": \"Ikran Clan Leader (uncredited)\", \"credit_id\": \"52fe48019251416c750acb63\", \"gender\": 1, \"id\": 1186027, \"name\": \"Alicia Vela-Bailey\", \"order\": 79}, {\"cast_id\": 100, \"character\": \"Geologist (uncredited)\", \"credit_id\": \"52fe48019251416c750acb67\", \"gender\": 0, \"id\": 1207292, \"name\": \"Richard Whiteside\", \"order\": 80}, {\"cast_id\": 101, \"character\": \"Na\\'vi (uncredited)\", \"credit_id\": \"52fe48019251416c750acb6b\", \"gender\": 0, \"id\": 103259, \"name\": \"Nikie Zambo\", \"order\": 81}, {\"cast_id\": 102, \"character\": \"Ambient Room Tech / Troupe\", \"credit_id\": \"52fe48019251416c750acb6f\", \"gender\": 1, \"id\": 42286, \"name\": \"Julene Renee\", \"order\": 82}]'"
            ]
          },
          "execution_count": 23,
          "metadata": {},
          "output_type": "execute_result"
        }
      ],
      "source": [
        "movies['cast'][0]"
      ]
    },
    {
      "cell_type": "code",
      "execution_count": null,
      "id": "21c08caa",
      "metadata": {
        "execution": {
          "iopub.execute_input": "2023-10-18T17:04:08.204427Z",
          "iopub.status.busy": "2023-10-18T17:04:08.204076Z",
          "iopub.status.idle": "2023-10-18T17:04:08.208803Z",
          "shell.execute_reply": "2023-10-18T17:04:08.207868Z"
        },
        "papermill": {
          "duration": 0.020476,
          "end_time": "2023-10-18T17:04:08.210651",
          "exception": false,
          "start_time": "2023-10-18T17:04:08.190175",
          "status": "completed"
        },
        "tags": [],
        "id": "21c08caa"
      },
      "outputs": [],
      "source": [
        "def convert3(obj):\n",
        "    L = []\n",
        "    ct = 0\n",
        "    for i in ast.literal_eval(obj):\n",
        "        if ct!=3:\n",
        "            L.append(i['name'])\n",
        "            ct = ct+1\n",
        "        else:\n",
        "            break\n",
        "    return L"
      ]
    },
    {
      "cell_type": "code",
      "execution_count": null,
      "id": "a66050ec",
      "metadata": {
        "execution": {
          "iopub.execute_input": "2023-10-18T17:04:08.238865Z",
          "iopub.status.busy": "2023-10-18T17:04:08.238547Z",
          "iopub.status.idle": "2023-10-18T17:04:11.370514Z",
          "shell.execute_reply": "2023-10-18T17:04:11.369391Z"
        },
        "papermill": {
          "duration": 3.148562,
          "end_time": "2023-10-18T17:04:11.372898",
          "exception": false,
          "start_time": "2023-10-18T17:04:08.224336",
          "status": "completed"
        },
        "tags": [],
        "id": "a66050ec"
      },
      "outputs": [],
      "source": [
        "movies['cast'] = movies['cast'].apply(convert3)"
      ]
    },
    {
      "cell_type": "code",
      "execution_count": null,
      "id": "f52b8b94",
      "metadata": {
        "execution": {
          "iopub.execute_input": "2023-10-18T17:04:11.400866Z",
          "iopub.status.busy": "2023-10-18T17:04:11.400495Z",
          "iopub.status.idle": "2023-10-18T17:04:11.407336Z",
          "shell.execute_reply": "2023-10-18T17:04:11.406492Z"
        },
        "papermill": {
          "duration": 0.023581,
          "end_time": "2023-10-18T17:04:11.409659",
          "exception": false,
          "start_time": "2023-10-18T17:04:11.386078",
          "status": "completed"
        },
        "tags": [],
        "id": "f52b8b94",
        "outputId": "fac7a735-a1d6-4f67-da88-3ec3fb67d684"
      },
      "outputs": [
        {
          "data": {
            "text/plain": [
              "'[{\"credit_id\": \"52fe48009251416c750aca23\", \"department\": \"Editing\", \"gender\": 0, \"id\": 1721, \"job\": \"Editor\", \"name\": \"Stephen E. Rivkin\"}, {\"credit_id\": \"539c47ecc3a36810e3001f87\", \"department\": \"Art\", \"gender\": 2, \"id\": 496, \"job\": \"Production Design\", \"name\": \"Rick Carter\"}, {\"credit_id\": \"54491c89c3a3680fb4001cf7\", \"department\": \"Sound\", \"gender\": 0, \"id\": 900, \"job\": \"Sound Designer\", \"name\": \"Christopher Boyes\"}, {\"credit_id\": \"54491cb70e0a267480001bd0\", \"department\": \"Sound\", \"gender\": 0, \"id\": 900, \"job\": \"Supervising Sound Editor\", \"name\": \"Christopher Boyes\"}, {\"credit_id\": \"539c4a4cc3a36810c9002101\", \"department\": \"Production\", \"gender\": 1, \"id\": 1262, \"job\": \"Casting\", \"name\": \"Mali Finn\"}, {\"credit_id\": \"5544ee3b925141499f0008fc\", \"department\": \"Sound\", \"gender\": 2, \"id\": 1729, \"job\": \"Original Music Composer\", \"name\": \"James Horner\"}, {\"credit_id\": \"52fe48009251416c750ac9c3\", \"department\": \"Directing\", \"gender\": 2, \"id\": 2710, \"job\": \"Director\", \"name\": \"James Cameron\"}, {\"credit_id\": \"52fe48009251416c750ac9d9\", \"department\": \"Writing\", \"gender\": 2, \"id\": 2710, \"job\": \"Writer\", \"name\": \"James Cameron\"}, {\"credit_id\": \"52fe48009251416c750aca17\", \"department\": \"Editing\", \"gender\": 2, \"id\": 2710, \"job\": \"Editor\", \"name\": \"James Cameron\"}, {\"credit_id\": \"52fe48009251416c750aca29\", \"department\": \"Production\", \"gender\": 2, \"id\": 2710, \"job\": \"Producer\", \"name\": \"James Cameron\"}, {\"credit_id\": \"52fe48009251416c750aca3f\", \"department\": \"Writing\", \"gender\": 2, \"id\": 2710, \"job\": \"Screenplay\", \"name\": \"James Cameron\"}, {\"credit_id\": \"539c4987c3a36810ba0021a4\", \"department\": \"Art\", \"gender\": 2, \"id\": 7236, \"job\": \"Art Direction\", \"name\": \"Andrew Menzies\"}, {\"credit_id\": \"549598c3c3a3686ae9004383\", \"department\": \"Visual Effects\", \"gender\": 0, \"id\": 6690, \"job\": \"Visual Effects Producer\", \"name\": \"Jill Brooks\"}, {\"credit_id\": \"52fe48009251416c750aca4b\", \"department\": \"Production\", \"gender\": 1, \"id\": 6347, \"job\": \"Casting\", \"name\": \"Margery Simkin\"}, {\"credit_id\": \"570b6f419251417da70032fe\", \"department\": \"Art\", \"gender\": 2, \"id\": 6878, \"job\": \"Supervising Art Director\", \"name\": \"Kevin Ishioka\"}, {\"credit_id\": \"5495a0fac3a3686ae9004468\", \"department\": \"Sound\", \"gender\": 0, \"id\": 6883, \"job\": \"Music Editor\", \"name\": \"Dick Bernstein\"}, {\"credit_id\": \"54959706c3a3686af3003e81\", \"department\": \"Sound\", \"gender\": 0, \"id\": 8159, \"job\": \"Sound Effects Editor\", \"name\": \"Shannon Mills\"}, {\"credit_id\": \"54491d58c3a3680fb1001ccb\", \"department\": \"Sound\", \"gender\": 0, \"id\": 8160, \"job\": \"Foley\", \"name\": \"Dennie Thorpe\"}, {\"credit_id\": \"54491d6cc3a3680fa5001b2c\", \"department\": \"Sound\", \"gender\": 0, \"id\": 8163, \"job\": \"Foley\", \"name\": \"Jana Vance\"}, {\"credit_id\": \"52fe48009251416c750aca57\", \"department\": \"Costume & Make-Up\", \"gender\": 1, \"id\": 8527, \"job\": \"Costume Design\", \"name\": \"Deborah Lynn Scott\"}, {\"credit_id\": \"52fe48009251416c750aca2f\", \"department\": \"Production\", \"gender\": 2, \"id\": 8529, \"job\": \"Producer\", \"name\": \"Jon Landau\"}, {\"credit_id\": \"539c4937c3a36810ba002194\", \"department\": \"Art\", \"gender\": 0, \"id\": 9618, \"job\": \"Art Direction\", \"name\": \"Sean Haworth\"}, {\"credit_id\": \"539c49b6c3a36810c10020e6\", \"department\": \"Art\", \"gender\": 1, \"id\": 12653, \"job\": \"Set Decoration\", \"name\": \"Kim Sinclair\"}, {\"credit_id\": \"570b6f2f9251413a0e00020d\", \"department\": \"Art\", \"gender\": 1, \"id\": 12653, \"job\": \"Supervising Art Director\", \"name\": \"Kim Sinclair\"}, {\"credit_id\": \"54491a6c0e0a26748c001b19\", \"department\": \"Art\", \"gender\": 2, \"id\": 14350, \"job\": \"Set Designer\", \"name\": \"Richard F. Mays\"}, {\"credit_id\": \"56928cf4c3a3684cff0025c4\", \"department\": \"Production\", \"gender\": 1, \"id\": 20294, \"job\": \"Executive Producer\", \"name\": \"Laeta Kalogridis\"}, {\"credit_id\": \"52fe48009251416c750aca51\", \"department\": \"Costume & Make-Up\", \"gender\": 0, \"id\": 17675, \"job\": \"Costume Design\", \"name\": \"Mayes C. Rubeo\"}, {\"credit_id\": \"52fe48009251416c750aca11\", \"department\": \"Camera\", \"gender\": 2, \"id\": 18265, \"job\": \"Director of Photography\", \"name\": \"Mauro Fiore\"}, {\"credit_id\": \"5449194d0e0a26748f001b39\", \"department\": \"Art\", \"gender\": 0, \"id\": 42281, \"job\": \"Set Designer\", \"name\": \"Scott Herbertson\"}, {\"credit_id\": \"52fe48009251416c750aca05\", \"department\": \"Crew\", \"gender\": 0, \"id\": 42288, \"job\": \"Stunts\", \"name\": \"Woody Schultz\"}, {\"credit_id\": \"5592aefb92514152de0010f5\", \"department\": \"Costume & Make-Up\", \"gender\": 0, \"id\": 29067, \"job\": \"Makeup Artist\", \"name\": \"Linda DeVetta\"}, {\"credit_id\": \"5592afa492514152de00112c\", \"department\": \"Costume & Make-Up\", \"gender\": 0, \"id\": 29067, \"job\": \"Hairstylist\", \"name\": \"Linda DeVetta\"}, {\"credit_id\": \"54959ed592514130fc002e5d\", \"department\": \"Camera\", \"gender\": 2, \"id\": 33302, \"job\": \"Camera Operator\", \"name\": \"Richard Bluck\"}, {\"credit_id\": \"539c4891c3a36810ba002147\", \"department\": \"Art\", \"gender\": 2, \"id\": 33303, \"job\": \"Art Direction\", \"name\": \"Simon Bright\"}, {\"credit_id\": \"54959c069251417a81001f3a\", \"department\": \"Visual Effects\", \"gender\": 0, \"id\": 113145, \"job\": \"Visual Effects Supervisor\", \"name\": \"Richard Martin\"}, {\"credit_id\": \"54959a0dc3a3680ff5002c8d\", \"department\": \"Crew\", \"gender\": 2, \"id\": 58188, \"job\": \"Visual Effects Editor\", \"name\": \"Steve R. Moore\"}, {\"credit_id\": \"52fe48009251416c750aca1d\", \"department\": \"Editing\", \"gender\": 2, \"id\": 58871, \"job\": \"Editor\", \"name\": \"John Refoua\"}, {\"credit_id\": \"54491a4dc3a3680fc30018ca\", \"department\": \"Art\", \"gender\": 0, \"id\": 92359, \"job\": \"Set Designer\", \"name\": \"Karl J. Martin\"}, {\"credit_id\": \"52fe48009251416c750aca35\", \"department\": \"Camera\", \"gender\": 1, \"id\": 72201, \"job\": \"Director of Photography\", \"name\": \"Chiling Lin\"}, {\"credit_id\": \"52fe48009251416c750ac9ff\", \"department\": \"Crew\", \"gender\": 0, \"id\": 89714, \"job\": \"Stunts\", \"name\": \"Ilram Choi\"}, {\"credit_id\": \"54959c529251416e2b004394\", \"department\": \"Visual Effects\", \"gender\": 2, \"id\": 93214, \"job\": \"Visual Effects Supervisor\", \"name\": \"Steven Quale\"}, {\"credit_id\": \"54491edf0e0a267489001c37\", \"department\": \"Crew\", \"gender\": 1, \"id\": 122607, \"job\": \"Dialect Coach\", \"name\": \"Carla Meyer\"}, {\"credit_id\": \"539c485bc3a368653d001a3a\", \"department\": \"Art\", \"gender\": 2, \"id\": 132585, \"job\": \"Art Direction\", \"name\": \"Nick Bassett\"}, {\"credit_id\": \"539c4903c3a368653d001a74\", \"department\": \"Art\", \"gender\": 0, \"id\": 132596, \"job\": \"Art Direction\", \"name\": \"Jill Cormack\"}, {\"credit_id\": \"539c4967c3a368653d001a94\", \"department\": \"Art\", \"gender\": 0, \"id\": 132604, \"job\": \"Art Direction\", \"name\": \"Andy McLaren\"}, {\"credit_id\": \"52fe48009251416c750aca45\", \"department\": \"Crew\", \"gender\": 0, \"id\": 236696, \"job\": \"Motion Capture Artist\", \"name\": \"Terry Notary\"}, {\"credit_id\": \"54959e02c3a3680fc60027d2\", \"department\": \"Crew\", \"gender\": 2, \"id\": 956198, \"job\": \"Stunt Coordinator\", \"name\": \"Garrett Warren\"}, {\"credit_id\": \"54959ca3c3a3686ae300438c\", \"department\": \"Visual Effects\", \"gender\": 2, \"id\": 957874, \"job\": \"Visual Effects Supervisor\", \"name\": \"Jonathan Rothbart\"}, {\"credit_id\": \"570b6f519251412c74001b2f\", \"department\": \"Art\", \"gender\": 0, \"id\": 957889, \"job\": \"Supervising Art Director\", \"name\": \"Stefan Dechant\"}, {\"credit_id\": \"570b6f62c3a3680b77007460\", \"department\": \"Art\", \"gender\": 2, \"id\": 959555, \"job\": \"Supervising Art Director\", \"name\": \"Todd Cherniawsky\"}, {\"credit_id\": \"539c4a3ac3a36810da0021cc\", \"department\": \"Production\", \"gender\": 0, \"id\": 1016177, \"job\": \"Casting\", \"name\": \"Miranda Rivers\"}, {\"credit_id\": \"539c482cc3a36810c1002062\", \"department\": \"Art\", \"gender\": 0, \"id\": 1032536, \"job\": \"Production Design\", \"name\": \"Robert Stromberg\"}, {\"credit_id\": \"539c4b65c3a36810c9002125\", \"department\": \"Costume & Make-Up\", \"gender\": 2, \"id\": 1071680, \"job\": \"Costume Design\", \"name\": \"John Harding\"}, {\"credit_id\": \"54959e6692514130fc002e4e\", \"department\": \"Camera\", \"gender\": 0, \"id\": 1177364, \"job\": \"Steadicam Operator\", \"name\": \"Roberto De Angelis\"}, {\"credit_id\": \"539c49f1c3a368653d001aac\", \"department\": \"Costume & Make-Up\", \"gender\": 2, \"id\": 1202850, \"job\": \"Makeup Department Head\", \"name\": \"Mike Smithson\"}, {\"credit_id\": \"5495999ec3a3686ae100460c\", \"department\": \"Visual Effects\", \"gender\": 0, \"id\": 1204668, \"job\": \"Visual Effects Producer\", \"name\": \"Alain Lalanne\"}, {\"credit_id\": \"54959cdfc3a3681153002729\", \"department\": \"Visual Effects\", \"gender\": 0, \"id\": 1206410, \"job\": \"Visual Effects Supervisor\", \"name\": \"Lucas Salton\"}, {\"credit_id\": \"549596239251417a81001eae\", \"department\": \"Crew\", \"gender\": 0, \"id\": 1234266, \"job\": \"Post Production Supervisor\", \"name\": \"Janace Tashjian\"}, {\"credit_id\": \"54959c859251416e1e003efe\", \"department\": \"Visual Effects\", \"gender\": 0, \"id\": 1271932, \"job\": \"Visual Effects Supervisor\", \"name\": \"Stephen Rosenbaum\"}, {\"credit_id\": \"5592af28c3a368775a00105f\", \"department\": \"Costume & Make-Up\", \"gender\": 0, \"id\": 1310064, \"job\": \"Makeup Artist\", \"name\": \"Frankie Karena\"}, {\"credit_id\": \"539c4adfc3a36810e300203b\", \"department\": \"Costume & Make-Up\", \"gender\": 1, \"id\": 1319844, \"job\": \"Costume Supervisor\", \"name\": \"Lisa Lovaas\"}, {\"credit_id\": \"54959b579251416e2b004371\", \"department\": \"Visual Effects\", \"gender\": 0, \"id\": 1327028, \"job\": \"Visual Effects Supervisor\", \"name\": \"Jonathan Fawkner\"}, {\"credit_id\": \"539c48a7c3a36810b5001fa7\", \"department\": \"Art\", \"gender\": 0, \"id\": 1330561, \"job\": \"Art Direction\", \"name\": \"Robert Bavin\"}, {\"credit_id\": \"539c4a71c3a36810da0021e0\", \"department\": \"Costume & Make-Up\", \"gender\": 0, \"id\": 1330567, \"job\": \"Costume Supervisor\", \"name\": \"Anthony Almaraz\"}, {\"credit_id\": \"539c4a8ac3a36810ba0021e4\", \"department\": \"Costume & Make-Up\", \"gender\": 0, \"id\": 1330570, \"job\": \"Costume Supervisor\", \"name\": \"Carolyn M. Fenton\"}, {\"credit_id\": \"539c4ab6c3a36810da0021f0\", \"department\": \"Costume & Make-Up\", \"gender\": 0, \"id\": 1330574, \"job\": \"Costume Supervisor\", \"name\": \"Beth Koenigsberg\"}, {\"credit_id\": \"54491ab70e0a267480001ba2\", \"department\": \"Art\", \"gender\": 0, \"id\": 1336191, \"job\": \"Set Designer\", \"name\": \"Sam Page\"}, {\"credit_id\": \"544919d9c3a3680fc30018bd\", \"department\": \"Art\", \"gender\": 0, \"id\": 1339441, \"job\": \"Set Designer\", \"name\": \"Tex Kadonaga\"}, {\"credit_id\": \"54491cf50e0a267483001b0c\", \"department\": \"Editing\", \"gender\": 0, \"id\": 1352422, \"job\": \"Dialogue Editor\", \"name\": \"Kim Foscato\"}, {\"credit_id\": \"544919f40e0a26748c001b09\", \"department\": \"Art\", \"gender\": 0, \"id\": 1352962, \"job\": \"Set Designer\", \"name\": \"Tammy S. Lee\"}, {\"credit_id\": \"5495a115c3a3680ff5002d71\", \"department\": \"Crew\", \"gender\": 0, \"id\": 1357070, \"job\": \"Transportation Coordinator\", \"name\": \"Denny Caira\"}, {\"credit_id\": \"5495a12f92514130fc002e94\", \"department\": \"Crew\", \"gender\": 0, \"id\": 1357071, \"job\": \"Transportation Coordinator\", \"name\": \"James Waitkus\"}, {\"credit_id\": \"5495976fc3a36811530026b0\", \"department\": \"Sound\", \"gender\": 0, \"id\": 1360103, \"job\": \"Supervising Sound Editor\", \"name\": \"Addison Teague\"}, {\"credit_id\": \"54491837c3a3680fb1001c5a\", \"department\": \"Art\", \"gender\": 2, \"id\": 1376887, \"job\": \"Set Designer\", \"name\": \"C. Scott Baker\"}, {\"credit_id\": \"54491878c3a3680fb4001c9d\", \"department\": \"Art\", \"gender\": 0, \"id\": 1376888, \"job\": \"Set Designer\", \"name\": \"Luke Caska\"}, {\"credit_id\": \"544918dac3a3680fa5001ae0\", \"department\": \"Art\", \"gender\": 0, \"id\": 1376889, \"job\": \"Set Designer\", \"name\": \"David Chow\"}, {\"credit_id\": \"544919110e0a267486001b68\", \"department\": \"Art\", \"gender\": 0, \"id\": 1376890, \"job\": \"Set Designer\", \"name\": \"Jonathan Dyer\"}, {\"credit_id\": \"54491967c3a3680faa001b5e\", \"department\": \"Art\", \"gender\": 0, \"id\": 1376891, \"job\": \"Set Designer\", \"name\": \"Joseph Hiura\"}, {\"credit_id\": \"54491997c3a3680fb1001c8a\", \"department\": \"Art\", \"gender\": 0, \"id\": 1376892, \"job\": \"Art Department Coordinator\", \"name\": \"Rebecca Jellie\"}, {\"credit_id\": \"544919ba0e0a26748f001b42\", \"department\": \"Art\", \"gender\": 0, \"id\": 1376893, \"job\": \"Set Designer\", \"name\": \"Robert Andrew Johnson\"}, {\"credit_id\": \"54491b1dc3a3680faa001b8c\", \"department\": \"Art\", \"gender\": 0, \"id\": 1376895, \"job\": \"Assistant Art Director\", \"name\": \"Mike Stassi\"}, {\"credit_id\": \"54491b79c3a3680fbb001826\", \"department\": \"Art\", \"gender\": 0, \"id\": 1376897, \"job\": \"Construction Coordinator\", \"name\": \"John Villarino\"}, {\"credit_id\": \"54491baec3a3680fb4001ce6\", \"department\": \"Art\", \"gender\": 2, \"id\": 1376898, \"job\": \"Assistant Art Director\", \"name\": \"Jeffrey Wisniewski\"}, {\"credit_id\": \"54491d2fc3a3680fb4001d07\", \"department\": \"Editing\", \"gender\": 0, \"id\": 1376899, \"job\": \"Dialogue Editor\", \"name\": \"Cheryl Nardi\"}, {\"credit_id\": \"54491d86c3a3680fa5001b2f\", \"department\": \"Editing\", \"gender\": 0, \"id\": 1376901, \"job\": \"Dialogue Editor\", \"name\": \"Marshall Winn\"}, {\"credit_id\": \"54491d9dc3a3680faa001bb0\", \"department\": \"Sound\", \"gender\": 0, \"id\": 1376902, \"job\": \"Supervising Sound Editor\", \"name\": \"Gwendolyn Yates Whittle\"}, {\"credit_id\": \"54491dc10e0a267486001bce\", \"department\": \"Sound\", \"gender\": 0, \"id\": 1376903, \"job\": \"Sound Re-Recording Mixer\", \"name\": \"William Stein\"}, {\"credit_id\": \"54491f500e0a26747c001c07\", \"department\": \"Crew\", \"gender\": 0, \"id\": 1376909, \"job\": \"Choreographer\", \"name\": \"Lula Washington\"}, {\"credit_id\": \"549599239251412c4e002a2e\", \"department\": \"Visual Effects\", \"gender\": 0, \"id\": 1391692, \"job\": \"Visual Effects Producer\", \"name\": \"Chris Del Conte\"}, {\"credit_id\": \"54959d54c3a36831b8001d9a\", \"department\": \"Visual Effects\", \"gender\": 2, \"id\": 1391695, \"job\": \"Visual Effects Supervisor\", \"name\": \"R. Christopher White\"}, {\"credit_id\": \"54959bdf9251412c4e002a66\", \"department\": \"Visual Effects\", \"gender\": 0, \"id\": 1394070, \"job\": \"Visual Effects Supervisor\", \"name\": \"Dan Lemmon\"}, {\"credit_id\": \"5495971d92514132ed002922\", \"department\": \"Sound\", \"gender\": 0, \"id\": 1394129, \"job\": \"Sound Effects Editor\", \"name\": \"Tim Nielsen\"}, {\"credit_id\": \"5592b25792514152cc0011aa\", \"department\": \"Crew\", \"gender\": 0, \"id\": 1394286, \"job\": \"CG Supervisor\", \"name\": \"Michael Mulholland\"}, {\"credit_id\": \"54959a329251416e2b004355\", \"department\": \"Crew\", \"gender\": 0, \"id\": 1394750, \"job\": \"Visual Effects Editor\", \"name\": \"Thomas Nittmann\"}, {\"credit_id\": \"54959d6dc3a3686ae9004401\", \"department\": \"Visual Effects\", \"gender\": 0, \"id\": 1394755, \"job\": \"Visual Effects Supervisor\", \"name\": \"Edson Williams\"}, {\"credit_id\": \"5495a08fc3a3686ae300441c\", \"department\": \"Editing\", \"gender\": 0, \"id\": 1394953, \"job\": \"Digital Intermediate\", \"name\": \"Christine Carr\"}, {\"credit_id\": \"55402d659251413d6d000249\", \"department\": \"Visual Effects\", \"gender\": 0, \"id\": 1395269, \"job\": \"Visual Effects Supervisor\", \"name\": \"John Bruno\"}, {\"credit_id\": \"54959e7b9251416e1e003f3e\", \"department\": \"Camera\", \"gender\": 0, \"id\": 1398970, \"job\": \"Steadicam Operator\", \"name\": \"David Emmerichs\"}, {\"credit_id\": \"54959734c3a3686ae10045e0\", \"department\": \"Sound\", \"gender\": 0, \"id\": 1400906, \"job\": \"Sound Effects Editor\", \"name\": \"Christopher Scarabosio\"}, {\"credit_id\": \"549595dd92514130fc002d79\", \"department\": \"Production\", \"gender\": 0, \"id\": 1401784, \"job\": \"Production Supervisor\", \"name\": \"Jennifer Teves\"}, {\"credit_id\": \"549596009251413af70028cc\", \"department\": \"Production\", \"gender\": 0, \"id\": 1401785, \"job\": \"Production Manager\", \"name\": \"Brigitte Yorke\"}, {\"credit_id\": \"549596e892514130fc002d99\", \"department\": \"Sound\", \"gender\": 0, \"id\": 1401786, \"job\": \"Sound Effects Editor\", \"name\": \"Ken Fischer\"}, {\"credit_id\": \"549598229251412c4e002a1c\", \"department\": \"Crew\", \"gender\": 0, \"id\": 1401787, \"job\": \"Special Effects Coordinator\", \"name\": \"Iain Hutton\"}, {\"credit_id\": \"549598349251416e2b00432b\", \"department\": \"Crew\", \"gender\": 0, \"id\": 1401788, \"job\": \"Special Effects Coordinator\", \"name\": \"Steve Ingram\"}, {\"credit_id\": \"54959905c3a3686ae3004324\", \"department\": \"Visual Effects\", \"gender\": 0, \"id\": 1401789, \"job\": \"Visual Effects Producer\", \"name\": \"Joyce Cox\"}, {\"credit_id\": \"5495994b92514132ed002951\", \"department\": \"Visual Effects\", \"gender\": 0, \"id\": 1401790, \"job\": \"Visual Effects Producer\", \"name\": \"Jenny Foster\"}, {\"credit_id\": \"549599cbc3a3686ae1004613\", \"department\": \"Crew\", \"gender\": 0, \"id\": 1401791, \"job\": \"Visual Effects Editor\", \"name\": \"Christopher Marino\"}, {\"credit_id\": \"549599f2c3a3686ae100461e\", \"department\": \"Crew\", \"gender\": 0, \"id\": 1401792, \"job\": \"Visual Effects Editor\", \"name\": \"Jim Milton\"}, {\"credit_id\": \"54959a51c3a3686af3003eb5\", \"department\": \"Visual Effects\", \"gender\": 0, \"id\": 1401793, \"job\": \"Visual Effects Producer\", \"name\": \"Cyndi Ochs\"}, {\"credit_id\": \"54959a7cc3a36811530026f4\", \"department\": \"Crew\", \"gender\": 0, \"id\": 1401794, \"job\": \"Visual Effects Editor\", \"name\": \"Lucas Putnam\"}, {\"credit_id\": \"54959b91c3a3680ff5002cb4\", \"department\": \"Visual Effects\", \"gender\": 0, \"id\": 1401795, \"job\": \"Visual Effects Supervisor\", \"name\": \"Anthony \\'Max\\' Ivins\"}, {\"credit_id\": \"54959bb69251412c4e002a5f\", \"department\": \"Visual Effects\", \"gender\": 0, \"id\": 1401796, \"job\": \"Visual Effects Supervisor\", \"name\": \"John Knoll\"}, {\"credit_id\": \"54959cbbc3a3686ae3004391\", \"department\": \"Visual Effects\", \"gender\": 2, \"id\": 1401799, \"job\": \"Visual Effects Supervisor\", \"name\": \"Eric Saindon\"}, {\"credit_id\": \"54959d06c3a3686ae90043f6\", \"department\": \"Visual Effects\", \"gender\": 0, \"id\": 1401800, \"job\": \"Visual Effects Supervisor\", \"name\": \"Wayne Stables\"}, {\"credit_id\": \"54959d259251416e1e003f11\", \"department\": \"Visual Effects\", \"gender\": 0, \"id\": 1401801, \"job\": \"Visual Effects Supervisor\", \"name\": \"David Stinnett\"}, {\"credit_id\": \"54959db49251413af7002975\", \"department\": \"Visual Effects\", \"gender\": 0, \"id\": 1401803, \"job\": \"Visual Effects Supervisor\", \"name\": \"Guy Williams\"}, {\"credit_id\": \"54959de4c3a3681153002750\", \"department\": \"Crew\", \"gender\": 0, \"id\": 1401804, \"job\": \"Stunt Coordinator\", \"name\": \"Stuart Thorp\"}, {\"credit_id\": \"54959ef2c3a3680fc60027f2\", \"department\": \"Lighting\", \"gender\": 0, \"id\": 1401805, \"job\": \"Best Boy Electric\", \"name\": \"Giles Coburn\"}, {\"credit_id\": \"54959f07c3a3680fc60027f9\", \"department\": \"Camera\", \"gender\": 2, \"id\": 1401806, \"job\": \"Still Photographer\", \"name\": \"Mark Fellman\"}, {\"credit_id\": \"54959f47c3a3681153002774\", \"department\": \"Lighting\", \"gender\": 0, \"id\": 1401807, \"job\": \"Lighting Technician\", \"name\": \"Scott Sprague\"}, {\"credit_id\": \"54959f8cc3a36831b8001df2\", \"department\": \"Visual Effects\", \"gender\": 0, \"id\": 1401808, \"job\": \"Animation Director\", \"name\": \"Jeremy Hollobon\"}, {\"credit_id\": \"54959fa0c3a36831b8001dfb\", \"department\": \"Visual Effects\", \"gender\": 0, \"id\": 1401809, \"job\": \"Animation Director\", \"name\": \"Orlando Meunier\"}, {\"credit_id\": \"54959fb6c3a3686af3003f54\", \"department\": \"Visual Effects\", \"gender\": 0, \"id\": 1401810, \"job\": \"Animation Director\", \"name\": \"Taisuke Tanimura\"}, {\"credit_id\": \"54959fd2c3a36831b8001e02\", \"department\": \"Costume & Make-Up\", \"gender\": 0, \"id\": 1401812, \"job\": \"Set Costumer\", \"name\": \"Lilia Mishel Acevedo\"}, {\"credit_id\": \"54959ff9c3a3686ae300440c\", \"department\": \"Costume & Make-Up\", \"gender\": 0, \"id\": 1401814, \"job\": \"Set Costumer\", \"name\": \"Alejandro M. Hernandez\"}, {\"credit_id\": \"5495a0ddc3a3686ae10046fe\", \"department\": \"Editing\", \"gender\": 0, \"id\": 1401815, \"job\": \"Digital Intermediate\", \"name\": \"Marvin Hall\"}, {\"credit_id\": \"5495a1f7c3a3686ae3004443\", \"department\": \"Production\", \"gender\": 0, \"id\": 1401816, \"job\": \"Publicist\", \"name\": \"Judy Alley\"}, {\"credit_id\": \"5592b29fc3a36869d100002f\", \"department\": \"Crew\", \"gender\": 0, \"id\": 1418381, \"job\": \"CG Supervisor\", \"name\": \"Mike Perry\"}, {\"credit_id\": \"5592b23a9251415df8001081\", \"department\": \"Crew\", \"gender\": 0, \"id\": 1426854, \"job\": \"CG Supervisor\", \"name\": \"Andrew Morley\"}, {\"credit_id\": \"55491e1192514104c40002d8\", \"department\": \"Art\", \"gender\": 0, \"id\": 1438901, \"job\": \"Conceptual Design\", \"name\": \"Seth Engstrom\"}, {\"credit_id\": \"5525d5809251417276002b06\", \"department\": \"Crew\", \"gender\": 0, \"id\": 1447362, \"job\": \"Visual Effects Art Director\", \"name\": \"Eric Oliver\"}, {\"credit_id\": \"554427ca925141586500312a\", \"department\": \"Visual Effects\", \"gender\": 0, \"id\": 1447503, \"job\": \"Modeling\", \"name\": \"Matsune Suzuki\"}, {\"credit_id\": \"551906889251415aab001c88\", \"department\": \"Art\", \"gender\": 0, \"id\": 1447524, \"job\": \"Art Department Manager\", \"name\": \"Paul Tobin\"}, {\"credit_id\": \"5592af8492514152cc0010de\", \"department\": \"Costume & Make-Up\", \"gender\": 0, \"id\": 1452643, \"job\": \"Hairstylist\", \"name\": \"Roxane Griffin\"}, {\"credit_id\": \"553d3c109251415852001318\", \"department\": \"Lighting\", \"gender\": 0, \"id\": 1453938, \"job\": \"Lighting Artist\", \"name\": \"Arun Ram-Mohan\"}, {\"credit_id\": \"5592af4692514152d5001355\", \"department\": \"Costume & Make-Up\", \"gender\": 0, \"id\": 1457305, \"job\": \"Makeup Artist\", \"name\": \"Georgia Lockhart-Adams\"}, {\"credit_id\": \"5592b2eac3a36877470012a5\", \"department\": \"Crew\", \"gender\": 0, \"id\": 1466035, \"job\": \"CG Supervisor\", \"name\": \"Thrain Shadbolt\"}, {\"credit_id\": \"5592b032c3a36877450015f1\", \"department\": \"Crew\", \"gender\": 0, \"id\": 1483220, \"job\": \"CG Supervisor\", \"name\": \"Brad Alexander\"}, {\"credit_id\": \"5592b05592514152d80012f6\", \"department\": \"Crew\", \"gender\": 0, \"id\": 1483221, \"job\": \"CG Supervisor\", \"name\": \"Shadi Almassizadeh\"}, {\"credit_id\": \"5592b090c3a36877570010b5\", \"department\": \"Crew\", \"gender\": 0, \"id\": 1483222, \"job\": \"CG Supervisor\", \"name\": \"Simon Clutterbuck\"}, {\"credit_id\": \"5592b0dbc3a368774b00112c\", \"department\": \"Crew\", \"gender\": 0, \"id\": 1483223, \"job\": \"CG Supervisor\", \"name\": \"Graeme Demmocks\"}, {\"credit_id\": \"5592b0fe92514152db0010c1\", \"department\": \"Crew\", \"gender\": 0, \"id\": 1483224, \"job\": \"CG Supervisor\", \"name\": \"Adrian Fernandes\"}, {\"credit_id\": \"5592b11f9251415df8001059\", \"department\": \"Crew\", \"gender\": 0, \"id\": 1483225, \"job\": \"CG Supervisor\", \"name\": \"Mitch Gates\"}, {\"credit_id\": \"5592b15dc3a3687745001645\", \"department\": \"Crew\", \"gender\": 0, \"id\": 1483226, \"job\": \"CG Supervisor\", \"name\": \"Jerry Kung\"}, {\"credit_id\": \"5592b18e925141645a0004ae\", \"department\": \"Crew\", \"gender\": 0, \"id\": 1483227, \"job\": \"CG Supervisor\", \"name\": \"Andy Lomas\"}, {\"credit_id\": \"5592b1bfc3a368775d0010e7\", \"department\": \"Crew\", \"gender\": 0, \"id\": 1483228, \"job\": \"CG Supervisor\", \"name\": \"Sebastian Marino\"}, {\"credit_id\": \"5592b2049251415df8001078\", \"department\": \"Crew\", \"gender\": 0, \"id\": 1483229, \"job\": \"CG Supervisor\", \"name\": \"Matthias Menz\"}, {\"credit_id\": \"5592b27b92514152d800136a\", \"department\": \"Crew\", \"gender\": 0, \"id\": 1483230, \"job\": \"CG Supervisor\", \"name\": \"Sergei Nevshupov\"}, {\"credit_id\": \"5592b2c3c3a36869e800003c\", \"department\": \"Crew\", \"gender\": 0, \"id\": 1483231, \"job\": \"CG Supervisor\", \"name\": \"Philippe Rebours\"}, {\"credit_id\": \"5592b317c3a36877470012af\", \"department\": \"Crew\", \"gender\": 0, \"id\": 1483232, \"job\": \"CG Supervisor\", \"name\": \"Michael Takarangi\"}, {\"credit_id\": \"5592b345c3a36877470012bb\", \"department\": \"Crew\", \"gender\": 0, \"id\": 1483233, \"job\": \"CG Supervisor\", \"name\": \"David Weitzberg\"}, {\"credit_id\": \"5592b37cc3a368775100113b\", \"department\": \"Crew\", \"gender\": 0, \"id\": 1483234, \"job\": \"CG Supervisor\", \"name\": \"Ben White\"}, {\"credit_id\": \"573c8e2f9251413f5d000094\", \"department\": \"Crew\", \"gender\": 1, \"id\": 1621932, \"job\": \"Stunts\", \"name\": \"Min Windle\"}]'"
            ]
          },
          "execution_count": 26,
          "metadata": {},
          "output_type": "execute_result"
        }
      ],
      "source": [
        "movies['crew'][0]"
      ]
    },
    {
      "cell_type": "markdown",
      "id": "646dcae1",
      "metadata": {
        "id": "646dcae1"
      },
      "source": [
        "This function extracts the name of the first person whose job is 'Director' ."
      ]
    },
    {
      "cell_type": "code",
      "execution_count": null,
      "id": "7abc8b27",
      "metadata": {
        "execution": {
          "iopub.execute_input": "2023-10-18T17:04:11.437516Z",
          "iopub.status.busy": "2023-10-18T17:04:11.437171Z",
          "iopub.status.idle": "2023-10-18T17:04:11.443333Z",
          "shell.execute_reply": "2023-10-18T17:04:11.442390Z"
        },
        "papermill": {
          "duration": 0.022457,
          "end_time": "2023-10-18T17:04:11.445295",
          "exception": false,
          "start_time": "2023-10-18T17:04:11.422838",
          "status": "completed"
        },
        "tags": [],
        "id": "7abc8b27"
      },
      "outputs": [],
      "source": [
        "def fetch_director(obj):\n",
        "    L = []\n",
        "    for i in ast.literal_eval(obj):\n",
        "        if i['job']=='Director':\n",
        "            L.append(i['name'])\n",
        "            break\n",
        "    return L"
      ]
    },
    {
      "cell_type": "code",
      "execution_count": null,
      "id": "e548892b",
      "metadata": {
        "execution": {
          "iopub.execute_input": "2023-10-18T17:04:11.473112Z",
          "iopub.status.busy": "2023-10-18T17:04:11.472812Z",
          "iopub.status.idle": "2023-10-18T17:04:15.036772Z",
          "shell.execute_reply": "2023-10-18T17:04:15.035741Z"
        },
        "papermill": {
          "duration": 3.580195,
          "end_time": "2023-10-18T17:04:15.038969",
          "exception": false,
          "start_time": "2023-10-18T17:04:11.458774",
          "status": "completed"
        },
        "tags": [],
        "id": "e548892b"
      },
      "outputs": [],
      "source": [
        "movies['crew'] = movies['crew'].apply(fetch_director)"
      ]
    },
    {
      "cell_type": "code",
      "execution_count": null,
      "id": "b3c3e4fa",
      "metadata": {
        "execution": {
          "iopub.execute_input": "2023-10-18T17:04:15.068058Z",
          "iopub.status.busy": "2023-10-18T17:04:15.067749Z",
          "iopub.status.idle": "2023-10-18T17:04:15.083873Z",
          "shell.execute_reply": "2023-10-18T17:04:15.082837Z"
        },
        "papermill": {
          "duration": 0.033105,
          "end_time": "2023-10-18T17:04:15.085764",
          "exception": false,
          "start_time": "2023-10-18T17:04:15.052659",
          "status": "completed"
        },
        "scrolled": true,
        "tags": [],
        "id": "b3c3e4fa",
        "outputId": "47cc4c7a-4c3f-4660-d4c6-0ea1e16ecf5d"
      },
      "outputs": [
        {
          "data": {
            "text/html": [
              "<div>\n",
              "<style scoped>\n",
              "    .dataframe tbody tr th:only-of-type {\n",
              "        vertical-align: middle;\n",
              "    }\n",
              "\n",
              "    .dataframe tbody tr th {\n",
              "        vertical-align: top;\n",
              "    }\n",
              "\n",
              "    .dataframe thead th {\n",
              "        text-align: right;\n",
              "    }\n",
              "</style>\n",
              "<table border=\"1\" class=\"dataframe\">\n",
              "  <thead>\n",
              "    <tr style=\"text-align: right;\">\n",
              "      <th></th>\n",
              "      <th>genres</th>\n",
              "      <th>id</th>\n",
              "      <th>keywords</th>\n",
              "      <th>title</th>\n",
              "      <th>overview</th>\n",
              "      <th>cast</th>\n",
              "      <th>crew</th>\n",
              "    </tr>\n",
              "  </thead>\n",
              "  <tbody>\n",
              "    <tr>\n",
              "      <th>0</th>\n",
              "      <td>[Action, Adventure, Fantasy, Science Fiction]</td>\n",
              "      <td>19995</td>\n",
              "      <td>[culture clash, future, space war, space colon...</td>\n",
              "      <td>Avatar</td>\n",
              "      <td>In the 22nd century, a paraplegic Marine is di...</td>\n",
              "      <td>[Sam Worthington, Zoe Saldana, Sigourney Weaver]</td>\n",
              "      <td>[James Cameron]</td>\n",
              "    </tr>\n",
              "    <tr>\n",
              "      <th>1</th>\n",
              "      <td>[Adventure, Fantasy, Action]</td>\n",
              "      <td>285</td>\n",
              "      <td>[ocean, drug abuse, exotic island, east india ...</td>\n",
              "      <td>Pirates of the Caribbean: At World's End</td>\n",
              "      <td>Captain Barbossa, long believed to be dead, ha...</td>\n",
              "      <td>[Johnny Depp, Orlando Bloom, Keira Knightley]</td>\n",
              "      <td>[Gore Verbinski]</td>\n",
              "    </tr>\n",
              "    <tr>\n",
              "      <th>2</th>\n",
              "      <td>[Action, Adventure, Crime]</td>\n",
              "      <td>206647</td>\n",
              "      <td>[spy, based on novel, secret agent, sequel, mi...</td>\n",
              "      <td>Spectre</td>\n",
              "      <td>A cryptic message from Bond’s past sends him o...</td>\n",
              "      <td>[Daniel Craig, Christoph Waltz, Léa Seydoux]</td>\n",
              "      <td>[Sam Mendes]</td>\n",
              "    </tr>\n",
              "    <tr>\n",
              "      <th>3</th>\n",
              "      <td>[Action, Crime, Drama, Thriller]</td>\n",
              "      <td>49026</td>\n",
              "      <td>[dc comics, crime fighter, terrorist, secret i...</td>\n",
              "      <td>The Dark Knight Rises</td>\n",
              "      <td>Following the death of District Attorney Harve...</td>\n",
              "      <td>[Christian Bale, Michael Caine, Gary Oldman]</td>\n",
              "      <td>[Christopher Nolan]</td>\n",
              "    </tr>\n",
              "    <tr>\n",
              "      <th>4</th>\n",
              "      <td>[Action, Adventure, Science Fiction]</td>\n",
              "      <td>49529</td>\n",
              "      <td>[based on novel, mars, medallion, space travel...</td>\n",
              "      <td>John Carter</td>\n",
              "      <td>John Carter is a war-weary, former military ca...</td>\n",
              "      <td>[Taylor Kitsch, Lynn Collins, Samantha Morton]</td>\n",
              "      <td>[Andrew Stanton]</td>\n",
              "    </tr>\n",
              "    <tr>\n",
              "      <th>5</th>\n",
              "      <td>[Fantasy, Action, Adventure]</td>\n",
              "      <td>559</td>\n",
              "      <td>[dual identity, amnesia, sandstorm, love of on...</td>\n",
              "      <td>Spider-Man 3</td>\n",
              "      <td>The seemingly invincible Spider-Man goes up ag...</td>\n",
              "      <td>[Tobey Maguire, Kirsten Dunst, James Franco]</td>\n",
              "      <td>[Sam Raimi]</td>\n",
              "    </tr>\n",
              "    <tr>\n",
              "      <th>6</th>\n",
              "      <td>[Animation, Family]</td>\n",
              "      <td>38757</td>\n",
              "      <td>[hostage, magic, horse, fairy tale, musical, p...</td>\n",
              "      <td>Tangled</td>\n",
              "      <td>When the kingdom's most wanted-and most charmi...</td>\n",
              "      <td>[Zachary Levi, Mandy Moore, Donna Murphy]</td>\n",
              "      <td>[Byron Howard]</td>\n",
              "    </tr>\n",
              "    <tr>\n",
              "      <th>7</th>\n",
              "      <td>[Action, Adventure, Science Fiction]</td>\n",
              "      <td>99861</td>\n",
              "      <td>[marvel comic, sequel, superhero, based on com...</td>\n",
              "      <td>Avengers: Age of Ultron</td>\n",
              "      <td>When Tony Stark tries to jumpstart a dormant p...</td>\n",
              "      <td>[Robert Downey Jr., Chris Hemsworth, Mark Ruff...</td>\n",
              "      <td>[Joss Whedon]</td>\n",
              "    </tr>\n",
              "    <tr>\n",
              "      <th>8</th>\n",
              "      <td>[Adventure, Fantasy, Family]</td>\n",
              "      <td>767</td>\n",
              "      <td>[witch, magic, broom, school of witchcraft, wi...</td>\n",
              "      <td>Harry Potter and the Half-Blood Prince</td>\n",
              "      <td>As Harry begins his sixth year at Hogwarts, he...</td>\n",
              "      <td>[Daniel Radcliffe, Rupert Grint, Emma Watson]</td>\n",
              "      <td>[David Yates]</td>\n",
              "    </tr>\n",
              "    <tr>\n",
              "      <th>9</th>\n",
              "      <td>[Action, Adventure, Fantasy]</td>\n",
              "      <td>209112</td>\n",
              "      <td>[dc comics, vigilante, superhero, based on com...</td>\n",
              "      <td>Batman v Superman: Dawn of Justice</td>\n",
              "      <td>Fearing the actions of a god-like Super Hero l...</td>\n",
              "      <td>[Ben Affleck, Henry Cavill, Gal Gadot]</td>\n",
              "      <td>[Zack Snyder]</td>\n",
              "    </tr>\n",
              "    <tr>\n",
              "      <th>10</th>\n",
              "      <td>[Adventure, Fantasy, Action, Science Fiction]</td>\n",
              "      <td>1452</td>\n",
              "      <td>[saving the world, dc comics, invulnerability,...</td>\n",
              "      <td>Superman Returns</td>\n",
              "      <td>Superman returns to discover his 5-year absenc...</td>\n",
              "      <td>[Brandon Routh, Kevin Spacey, Kate Bosworth]</td>\n",
              "      <td>[Bryan Singer]</td>\n",
              "    </tr>\n",
              "    <tr>\n",
              "      <th>11</th>\n",
              "      <td>[Adventure, Action, Thriller, Crime]</td>\n",
              "      <td>10764</td>\n",
              "      <td>[killing, undercover, secret agent, british se...</td>\n",
              "      <td>Quantum of Solace</td>\n",
              "      <td>Quantum of Solace continues the adventures of ...</td>\n",
              "      <td>[Daniel Craig, Olga Kurylenko, Mathieu Amalric]</td>\n",
              "      <td>[Marc Forster]</td>\n",
              "    </tr>\n",
              "    <tr>\n",
              "      <th>12</th>\n",
              "      <td>[Adventure, Fantasy, Action]</td>\n",
              "      <td>58</td>\n",
              "      <td>[witch, fortune teller, bondage, exotic island...</td>\n",
              "      <td>Pirates of the Caribbean: Dead Man's Chest</td>\n",
              "      <td>Captain Jack Sparrow works his way out of a bl...</td>\n",
              "      <td>[Johnny Depp, Orlando Bloom, Keira Knightley]</td>\n",
              "      <td>[Gore Verbinski]</td>\n",
              "    </tr>\n",
              "    <tr>\n",
              "      <th>13</th>\n",
              "      <td>[Action, Adventure, Western]</td>\n",
              "      <td>57201</td>\n",
              "      <td>[texas, horse, survivor, texas ranger, partner...</td>\n",
              "      <td>The Lone Ranger</td>\n",
              "      <td>The Texas Rangers chase down a gang of outlaws...</td>\n",
              "      <td>[Johnny Depp, Armie Hammer, William Fichtner]</td>\n",
              "      <td>[Gore Verbinski]</td>\n",
              "    </tr>\n",
              "    <tr>\n",
              "      <th>14</th>\n",
              "      <td>[Action, Adventure, Fantasy, Science Fiction]</td>\n",
              "      <td>49521</td>\n",
              "      <td>[saving the world, dc comics, superhero, based...</td>\n",
              "      <td>Man of Steel</td>\n",
              "      <td>A young boy learns that he has extraordinary p...</td>\n",
              "      <td>[Henry Cavill, Amy Adams, Michael Shannon]</td>\n",
              "      <td>[Zack Snyder]</td>\n",
              "    </tr>\n",
              "    <tr>\n",
              "      <th>15</th>\n",
              "      <td>[Adventure, Family, Fantasy]</td>\n",
              "      <td>2454</td>\n",
              "      <td>[based on novel, fictional place, brother sist...</td>\n",
              "      <td>The Chronicles of Narnia: Prince Caspian</td>\n",
              "      <td>One year after their incredible adventures in ...</td>\n",
              "      <td>[Ben Barnes, William Moseley, Anna Popplewell]</td>\n",
              "      <td>[Andrew Adamson]</td>\n",
              "    </tr>\n",
              "    <tr>\n",
              "      <th>16</th>\n",
              "      <td>[Science Fiction, Action, Adventure]</td>\n",
              "      <td>24428</td>\n",
              "      <td>[new york, shield, marvel comic, superhero, ba...</td>\n",
              "      <td>The Avengers</td>\n",
              "      <td>When an unexpected enemy emerges and threatens...</td>\n",
              "      <td>[Robert Downey Jr., Chris Evans, Mark Ruffalo]</td>\n",
              "      <td>[Joss Whedon]</td>\n",
              "    </tr>\n",
              "    <tr>\n",
              "      <th>17</th>\n",
              "      <td>[Adventure, Action, Fantasy]</td>\n",
              "      <td>1865</td>\n",
              "      <td>[sea, captain, mutiny, sword, prime minister, ...</td>\n",
              "      <td>Pirates of the Caribbean: On Stranger Tides</td>\n",
              "      <td>Captain Jack Sparrow crosses paths with a woma...</td>\n",
              "      <td>[Johnny Depp, Penélope Cruz, Ian McShane]</td>\n",
              "      <td>[Rob Marshall]</td>\n",
              "    </tr>\n",
              "    <tr>\n",
              "      <th>18</th>\n",
              "      <td>[Action, Comedy, Science Fiction]</td>\n",
              "      <td>41154</td>\n",
              "      <td>[time travel, time machine, alien, fictional g...</td>\n",
              "      <td>Men in Black 3</td>\n",
              "      <td>Agents J (Will Smith) and K (Tommy Lee Jones) ...</td>\n",
              "      <td>[Will Smith, Tommy Lee Jones, Josh Brolin]</td>\n",
              "      <td>[Barry Sonnenfeld]</td>\n",
              "    </tr>\n",
              "    <tr>\n",
              "      <th>19</th>\n",
              "      <td>[Action, Adventure, Fantasy]</td>\n",
              "      <td>122917</td>\n",
              "      <td>[corruption, elves, dwarves, orcs, middle-eart...</td>\n",
              "      <td>The Hobbit: The Battle of the Five Armies</td>\n",
              "      <td>Immediately after the events of The Desolation...</td>\n",
              "      <td>[Martin Freeman, Ian McKellen, Richard Armitage]</td>\n",
              "      <td>[Peter Jackson]</td>\n",
              "    </tr>\n",
              "  </tbody>\n",
              "</table>\n",
              "</div>"
            ],
            "text/plain": [
              "                                           genres      id  \\\n",
              "0   [Action, Adventure, Fantasy, Science Fiction]   19995   \n",
              "1                    [Adventure, Fantasy, Action]     285   \n",
              "2                      [Action, Adventure, Crime]  206647   \n",
              "3                [Action, Crime, Drama, Thriller]   49026   \n",
              "4            [Action, Adventure, Science Fiction]   49529   \n",
              "5                    [Fantasy, Action, Adventure]     559   \n",
              "6                             [Animation, Family]   38757   \n",
              "7            [Action, Adventure, Science Fiction]   99861   \n",
              "8                    [Adventure, Fantasy, Family]     767   \n",
              "9                    [Action, Adventure, Fantasy]  209112   \n",
              "10  [Adventure, Fantasy, Action, Science Fiction]    1452   \n",
              "11           [Adventure, Action, Thriller, Crime]   10764   \n",
              "12                   [Adventure, Fantasy, Action]      58   \n",
              "13                   [Action, Adventure, Western]   57201   \n",
              "14  [Action, Adventure, Fantasy, Science Fiction]   49521   \n",
              "15                   [Adventure, Family, Fantasy]    2454   \n",
              "16           [Science Fiction, Action, Adventure]   24428   \n",
              "17                   [Adventure, Action, Fantasy]    1865   \n",
              "18              [Action, Comedy, Science Fiction]   41154   \n",
              "19                   [Action, Adventure, Fantasy]  122917   \n",
              "\n",
              "                                             keywords  \\\n",
              "0   [culture clash, future, space war, space colon...   \n",
              "1   [ocean, drug abuse, exotic island, east india ...   \n",
              "2   [spy, based on novel, secret agent, sequel, mi...   \n",
              "3   [dc comics, crime fighter, terrorist, secret i...   \n",
              "4   [based on novel, mars, medallion, space travel...   \n",
              "5   [dual identity, amnesia, sandstorm, love of on...   \n",
              "6   [hostage, magic, horse, fairy tale, musical, p...   \n",
              "7   [marvel comic, sequel, superhero, based on com...   \n",
              "8   [witch, magic, broom, school of witchcraft, wi...   \n",
              "9   [dc comics, vigilante, superhero, based on com...   \n",
              "10  [saving the world, dc comics, invulnerability,...   \n",
              "11  [killing, undercover, secret agent, british se...   \n",
              "12  [witch, fortune teller, bondage, exotic island...   \n",
              "13  [texas, horse, survivor, texas ranger, partner...   \n",
              "14  [saving the world, dc comics, superhero, based...   \n",
              "15  [based on novel, fictional place, brother sist...   \n",
              "16  [new york, shield, marvel comic, superhero, ba...   \n",
              "17  [sea, captain, mutiny, sword, prime minister, ...   \n",
              "18  [time travel, time machine, alien, fictional g...   \n",
              "19  [corruption, elves, dwarves, orcs, middle-eart...   \n",
              "\n",
              "                                          title  \\\n",
              "0                                        Avatar   \n",
              "1      Pirates of the Caribbean: At World's End   \n",
              "2                                       Spectre   \n",
              "3                         The Dark Knight Rises   \n",
              "4                                   John Carter   \n",
              "5                                  Spider-Man 3   \n",
              "6                                       Tangled   \n",
              "7                       Avengers: Age of Ultron   \n",
              "8        Harry Potter and the Half-Blood Prince   \n",
              "9            Batman v Superman: Dawn of Justice   \n",
              "10                             Superman Returns   \n",
              "11                            Quantum of Solace   \n",
              "12   Pirates of the Caribbean: Dead Man's Chest   \n",
              "13                              The Lone Ranger   \n",
              "14                                 Man of Steel   \n",
              "15     The Chronicles of Narnia: Prince Caspian   \n",
              "16                                 The Avengers   \n",
              "17  Pirates of the Caribbean: On Stranger Tides   \n",
              "18                               Men in Black 3   \n",
              "19    The Hobbit: The Battle of the Five Armies   \n",
              "\n",
              "                                             overview  \\\n",
              "0   In the 22nd century, a paraplegic Marine is di...   \n",
              "1   Captain Barbossa, long believed to be dead, ha...   \n",
              "2   A cryptic message from Bond’s past sends him o...   \n",
              "3   Following the death of District Attorney Harve...   \n",
              "4   John Carter is a war-weary, former military ca...   \n",
              "5   The seemingly invincible Spider-Man goes up ag...   \n",
              "6   When the kingdom's most wanted-and most charmi...   \n",
              "7   When Tony Stark tries to jumpstart a dormant p...   \n",
              "8   As Harry begins his sixth year at Hogwarts, he...   \n",
              "9   Fearing the actions of a god-like Super Hero l...   \n",
              "10  Superman returns to discover his 5-year absenc...   \n",
              "11  Quantum of Solace continues the adventures of ...   \n",
              "12  Captain Jack Sparrow works his way out of a bl...   \n",
              "13  The Texas Rangers chase down a gang of outlaws...   \n",
              "14  A young boy learns that he has extraordinary p...   \n",
              "15  One year after their incredible adventures in ...   \n",
              "16  When an unexpected enemy emerges and threatens...   \n",
              "17  Captain Jack Sparrow crosses paths with a woma...   \n",
              "18  Agents J (Will Smith) and K (Tommy Lee Jones) ...   \n",
              "19  Immediately after the events of The Desolation...   \n",
              "\n",
              "                                                 cast                 crew  \n",
              "0    [Sam Worthington, Zoe Saldana, Sigourney Weaver]      [James Cameron]  \n",
              "1       [Johnny Depp, Orlando Bloom, Keira Knightley]     [Gore Verbinski]  \n",
              "2        [Daniel Craig, Christoph Waltz, Léa Seydoux]         [Sam Mendes]  \n",
              "3        [Christian Bale, Michael Caine, Gary Oldman]  [Christopher Nolan]  \n",
              "4      [Taylor Kitsch, Lynn Collins, Samantha Morton]     [Andrew Stanton]  \n",
              "5        [Tobey Maguire, Kirsten Dunst, James Franco]          [Sam Raimi]  \n",
              "6           [Zachary Levi, Mandy Moore, Donna Murphy]       [Byron Howard]  \n",
              "7   [Robert Downey Jr., Chris Hemsworth, Mark Ruff...        [Joss Whedon]  \n",
              "8       [Daniel Radcliffe, Rupert Grint, Emma Watson]        [David Yates]  \n",
              "9              [Ben Affleck, Henry Cavill, Gal Gadot]        [Zack Snyder]  \n",
              "10       [Brandon Routh, Kevin Spacey, Kate Bosworth]       [Bryan Singer]  \n",
              "11    [Daniel Craig, Olga Kurylenko, Mathieu Amalric]       [Marc Forster]  \n",
              "12      [Johnny Depp, Orlando Bloom, Keira Knightley]     [Gore Verbinski]  \n",
              "13      [Johnny Depp, Armie Hammer, William Fichtner]     [Gore Verbinski]  \n",
              "14         [Henry Cavill, Amy Adams, Michael Shannon]        [Zack Snyder]  \n",
              "15     [Ben Barnes, William Moseley, Anna Popplewell]     [Andrew Adamson]  \n",
              "16     [Robert Downey Jr., Chris Evans, Mark Ruffalo]        [Joss Whedon]  \n",
              "17          [Johnny Depp, Penélope Cruz, Ian McShane]       [Rob Marshall]  \n",
              "18         [Will Smith, Tommy Lee Jones, Josh Brolin]   [Barry Sonnenfeld]  \n",
              "19   [Martin Freeman, Ian McKellen, Richard Armitage]      [Peter Jackson]  "
            ]
          },
          "execution_count": 29,
          "metadata": {},
          "output_type": "execute_result"
        }
      ],
      "source": [
        "movies.head(20)"
      ]
    },
    {
      "cell_type": "markdown",
      "id": "50d5db13",
      "metadata": {
        "id": "50d5db13"
      },
      "source": [
        "Converting overview (string) into List"
      ]
    },
    {
      "cell_type": "code",
      "execution_count": null,
      "id": "9a0b9c9a",
      "metadata": {
        "execution": {
          "iopub.execute_input": "2023-10-18T17:04:15.115328Z",
          "iopub.status.busy": "2023-10-18T17:04:15.114738Z",
          "iopub.status.idle": "2023-10-18T17:04:15.151754Z",
          "shell.execute_reply": "2023-10-18T17:04:15.150208Z"
        },
        "papermill": {
          "duration": 0.054586,
          "end_time": "2023-10-18T17:04:15.154203",
          "exception": false,
          "start_time": "2023-10-18T17:04:15.099617",
          "status": "completed"
        },
        "tags": [],
        "id": "9a0b9c9a"
      },
      "outputs": [],
      "source": [
        "movies['overview'] = movies['overview'].apply(lambda x:x.split())"
      ]
    },
    {
      "cell_type": "code",
      "execution_count": null,
      "id": "fb7f3f47",
      "metadata": {
        "execution": {
          "iopub.execute_input": "2023-10-18T17:04:15.183058Z",
          "iopub.status.busy": "2023-10-18T17:04:15.182554Z",
          "iopub.status.idle": "2023-10-18T17:04:15.296730Z",
          "shell.execute_reply": "2023-10-18T17:04:15.295403Z"
        },
        "papermill": {
          "duration": 0.131224,
          "end_time": "2023-10-18T17:04:15.299081",
          "exception": false,
          "start_time": "2023-10-18T17:04:15.167857",
          "status": "completed"
        },
        "tags": [],
        "id": "fb7f3f47"
      },
      "outputs": [],
      "source": [
        "# Removing spaces between words\n",
        "movies['genres'] = movies['genres'].apply(lambda x: [i.replace(\" \",\"\") for i in x])\n",
        "movies['keywords'] = movies['keywords'].apply(lambda x: [i.replace(\" \",\"\") for i in x])\n",
        "movies['cast'] = movies['cast'].apply(lambda x: [i.replace(\" \",\"\") for i in x])\n",
        "movies['crew'] = movies['crew'].apply(lambda x: [i.replace(\" \",\"\") for i in x])"
      ]
    },
    {
      "cell_type": "code",
      "execution_count": null,
      "id": "0251acf4",
      "metadata": {
        "execution": {
          "iopub.execute_input": "2023-10-18T17:04:15.327816Z",
          "iopub.status.busy": "2023-10-18T17:04:15.327497Z",
          "iopub.status.idle": "2023-10-18T17:04:15.345532Z",
          "shell.execute_reply": "2023-10-18T17:04:15.344522Z"
        },
        "papermill": {
          "duration": 0.034261,
          "end_time": "2023-10-18T17:04:15.347299",
          "exception": false,
          "start_time": "2023-10-18T17:04:15.313038",
          "status": "completed"
        },
        "tags": [],
        "id": "0251acf4",
        "outputId": "7d79a1fa-825a-4e2b-bfe2-68c0bb3c0660"
      },
      "outputs": [
        {
          "data": {
            "text/html": [
              "<div>\n",
              "<style scoped>\n",
              "    .dataframe tbody tr th:only-of-type {\n",
              "        vertical-align: middle;\n",
              "    }\n",
              "\n",
              "    .dataframe tbody tr th {\n",
              "        vertical-align: top;\n",
              "    }\n",
              "\n",
              "    .dataframe thead th {\n",
              "        text-align: right;\n",
              "    }\n",
              "</style>\n",
              "<table border=\"1\" class=\"dataframe\">\n",
              "  <thead>\n",
              "    <tr style=\"text-align: right;\">\n",
              "      <th></th>\n",
              "      <th>genres</th>\n",
              "      <th>id</th>\n",
              "      <th>keywords</th>\n",
              "      <th>title</th>\n",
              "      <th>overview</th>\n",
              "      <th>cast</th>\n",
              "      <th>crew</th>\n",
              "    </tr>\n",
              "  </thead>\n",
              "  <tbody>\n",
              "    <tr>\n",
              "      <th>0</th>\n",
              "      <td>[Action, Adventure, Fantasy, ScienceFiction]</td>\n",
              "      <td>19995</td>\n",
              "      <td>[cultureclash, future, spacewar, spacecolony, ...</td>\n",
              "      <td>Avatar</td>\n",
              "      <td>[In, the, 22nd, century,, a, paraplegic, Marin...</td>\n",
              "      <td>[SamWorthington, ZoeSaldana, SigourneyWeaver]</td>\n",
              "      <td>[JamesCameron]</td>\n",
              "    </tr>\n",
              "    <tr>\n",
              "      <th>1</th>\n",
              "      <td>[Adventure, Fantasy, Action]</td>\n",
              "      <td>285</td>\n",
              "      <td>[ocean, drugabuse, exoticisland, eastindiatrad...</td>\n",
              "      <td>Pirates of the Caribbean: At World's End</td>\n",
              "      <td>[Captain, Barbossa,, long, believed, to, be, d...</td>\n",
              "      <td>[JohnnyDepp, OrlandoBloom, KeiraKnightley]</td>\n",
              "      <td>[GoreVerbinski]</td>\n",
              "    </tr>\n",
              "    <tr>\n",
              "      <th>2</th>\n",
              "      <td>[Action, Adventure, Crime]</td>\n",
              "      <td>206647</td>\n",
              "      <td>[spy, basedonnovel, secretagent, sequel, mi6, ...</td>\n",
              "      <td>Spectre</td>\n",
              "      <td>[A, cryptic, message, from, Bond’s, past, send...</td>\n",
              "      <td>[DanielCraig, ChristophWaltz, LéaSeydoux]</td>\n",
              "      <td>[SamMendes]</td>\n",
              "    </tr>\n",
              "    <tr>\n",
              "      <th>3</th>\n",
              "      <td>[Action, Crime, Drama, Thriller]</td>\n",
              "      <td>49026</td>\n",
              "      <td>[dccomics, crimefighter, terrorist, secretiden...</td>\n",
              "      <td>The Dark Knight Rises</td>\n",
              "      <td>[Following, the, death, of, District, Attorney...</td>\n",
              "      <td>[ChristianBale, MichaelCaine, GaryOldman]</td>\n",
              "      <td>[ChristopherNolan]</td>\n",
              "    </tr>\n",
              "    <tr>\n",
              "      <th>4</th>\n",
              "      <td>[Action, Adventure, ScienceFiction]</td>\n",
              "      <td>49529</td>\n",
              "      <td>[basedonnovel, mars, medallion, spacetravel, p...</td>\n",
              "      <td>John Carter</td>\n",
              "      <td>[John, Carter, is, a, war-weary,, former, mili...</td>\n",
              "      <td>[TaylorKitsch, LynnCollins, SamanthaMorton]</td>\n",
              "      <td>[AndrewStanton]</td>\n",
              "    </tr>\n",
              "  </tbody>\n",
              "</table>\n",
              "</div>"
            ],
            "text/plain": [
              "                                         genres      id  \\\n",
              "0  [Action, Adventure, Fantasy, ScienceFiction]   19995   \n",
              "1                  [Adventure, Fantasy, Action]     285   \n",
              "2                    [Action, Adventure, Crime]  206647   \n",
              "3              [Action, Crime, Drama, Thriller]   49026   \n",
              "4           [Action, Adventure, ScienceFiction]   49529   \n",
              "\n",
              "                                            keywords  \\\n",
              "0  [cultureclash, future, spacewar, spacecolony, ...   \n",
              "1  [ocean, drugabuse, exoticisland, eastindiatrad...   \n",
              "2  [spy, basedonnovel, secretagent, sequel, mi6, ...   \n",
              "3  [dccomics, crimefighter, terrorist, secretiden...   \n",
              "4  [basedonnovel, mars, medallion, spacetravel, p...   \n",
              "\n",
              "                                      title  \\\n",
              "0                                    Avatar   \n",
              "1  Pirates of the Caribbean: At World's End   \n",
              "2                                   Spectre   \n",
              "3                     The Dark Knight Rises   \n",
              "4                               John Carter   \n",
              "\n",
              "                                            overview  \\\n",
              "0  [In, the, 22nd, century,, a, paraplegic, Marin...   \n",
              "1  [Captain, Barbossa,, long, believed, to, be, d...   \n",
              "2  [A, cryptic, message, from, Bond’s, past, send...   \n",
              "3  [Following, the, death, of, District, Attorney...   \n",
              "4  [John, Carter, is, a, war-weary,, former, mili...   \n",
              "\n",
              "                                            cast                crew  \n",
              "0  [SamWorthington, ZoeSaldana, SigourneyWeaver]      [JamesCameron]  \n",
              "1     [JohnnyDepp, OrlandoBloom, KeiraKnightley]     [GoreVerbinski]  \n",
              "2      [DanielCraig, ChristophWaltz, LéaSeydoux]         [SamMendes]  \n",
              "3      [ChristianBale, MichaelCaine, GaryOldman]  [ChristopherNolan]  \n",
              "4    [TaylorKitsch, LynnCollins, SamanthaMorton]     [AndrewStanton]  "
            ]
          },
          "execution_count": 32,
          "metadata": {},
          "output_type": "execute_result"
        }
      ],
      "source": [
        "movies.head()"
      ]
    },
    {
      "cell_type": "markdown",
      "id": "85019e77",
      "metadata": {
        "id": "85019e77"
      },
      "source": [
        "cooncatinating 'overview' , 'genres' ,'keywords' + 'cast' + 'crew' into a one column"
      ]
    },
    {
      "cell_type": "code",
      "execution_count": null,
      "id": "9532b015",
      "metadata": {
        "execution": {
          "iopub.execute_input": "2023-10-18T17:04:15.376462Z",
          "iopub.status.busy": "2023-10-18T17:04:15.376126Z",
          "iopub.status.idle": "2023-10-18T17:04:15.424400Z",
          "shell.execute_reply": "2023-10-18T17:04:15.423434Z"
        },
        "papermill": {
          "duration": 0.064983,
          "end_time": "2023-10-18T17:04:15.426308",
          "exception": false,
          "start_time": "2023-10-18T17:04:15.361325",
          "status": "completed"
        },
        "tags": [],
        "id": "9532b015"
      },
      "outputs": [],
      "source": [
        "movies['tags'] = movies['overview'] + movies['genres'] + movies['keywords'] + movies['cast'] + movies['crew']"
      ]
    },
    {
      "cell_type": "code",
      "execution_count": null,
      "id": "02d2eb3a",
      "metadata": {
        "execution": {
          "iopub.execute_input": "2023-10-18T17:04:15.455873Z",
          "iopub.status.busy": "2023-10-18T17:04:15.455548Z",
          "iopub.status.idle": "2023-10-18T17:04:15.460891Z",
          "shell.execute_reply": "2023-10-18T17:04:15.459787Z"
        },
        "papermill": {
          "duration": 0.022262,
          "end_time": "2023-10-18T17:04:15.462696",
          "exception": false,
          "start_time": "2023-10-18T17:04:15.440434",
          "status": "completed"
        },
        "tags": [],
        "id": "02d2eb3a"
      },
      "outputs": [],
      "source": [
        "new_df = movies[['id','title','tags']]"
      ]
    },
    {
      "cell_type": "code",
      "execution_count": null,
      "id": "a0db5083",
      "metadata": {
        "execution": {
          "iopub.execute_input": "2023-10-18T17:04:15.491715Z",
          "iopub.status.busy": "2023-10-18T17:04:15.491331Z",
          "iopub.status.idle": "2023-10-18T17:04:15.506259Z",
          "shell.execute_reply": "2023-10-18T17:04:15.505419Z"
        },
        "papermill": {
          "duration": 0.031597,
          "end_time": "2023-10-18T17:04:15.508008",
          "exception": false,
          "start_time": "2023-10-18T17:04:15.476411",
          "status": "completed"
        },
        "tags": [],
        "id": "a0db5083",
        "outputId": "e4dde9d2-3fb2-4ebe-a380-213b88b2225c"
      },
      "outputs": [
        {
          "data": {
            "text/html": [
              "<div>\n",
              "<style scoped>\n",
              "    .dataframe tbody tr th:only-of-type {\n",
              "        vertical-align: middle;\n",
              "    }\n",
              "\n",
              "    .dataframe tbody tr th {\n",
              "        vertical-align: top;\n",
              "    }\n",
              "\n",
              "    .dataframe thead th {\n",
              "        text-align: right;\n",
              "    }\n",
              "</style>\n",
              "<table border=\"1\" class=\"dataframe\">\n",
              "  <thead>\n",
              "    <tr style=\"text-align: right;\">\n",
              "      <th></th>\n",
              "      <th>id</th>\n",
              "      <th>title</th>\n",
              "      <th>tags</th>\n",
              "    </tr>\n",
              "  </thead>\n",
              "  <tbody>\n",
              "    <tr>\n",
              "      <th>0</th>\n",
              "      <td>19995</td>\n",
              "      <td>Avatar</td>\n",
              "      <td>[In, the, 22nd, century,, a, paraplegic, Marin...</td>\n",
              "    </tr>\n",
              "    <tr>\n",
              "      <th>1</th>\n",
              "      <td>285</td>\n",
              "      <td>Pirates of the Caribbean: At World's End</td>\n",
              "      <td>[Captain, Barbossa,, long, believed, to, be, d...</td>\n",
              "    </tr>\n",
              "    <tr>\n",
              "      <th>2</th>\n",
              "      <td>206647</td>\n",
              "      <td>Spectre</td>\n",
              "      <td>[A, cryptic, message, from, Bond’s, past, send...</td>\n",
              "    </tr>\n",
              "    <tr>\n",
              "      <th>3</th>\n",
              "      <td>49026</td>\n",
              "      <td>The Dark Knight Rises</td>\n",
              "      <td>[Following, the, death, of, District, Attorney...</td>\n",
              "    </tr>\n",
              "    <tr>\n",
              "      <th>4</th>\n",
              "      <td>49529</td>\n",
              "      <td>John Carter</td>\n",
              "      <td>[John, Carter, is, a, war-weary,, former, mili...</td>\n",
              "    </tr>\n",
              "    <tr>\n",
              "      <th>...</th>\n",
              "      <td>...</td>\n",
              "      <td>...</td>\n",
              "      <td>...</td>\n",
              "    </tr>\n",
              "    <tr>\n",
              "      <th>4805</th>\n",
              "      <td>9367</td>\n",
              "      <td>El Mariachi</td>\n",
              "      <td>[El, Mariachi, just, wants, to, play, his, gui...</td>\n",
              "    </tr>\n",
              "    <tr>\n",
              "      <th>4806</th>\n",
              "      <td>72766</td>\n",
              "      <td>Newlyweds</td>\n",
              "      <td>[A, newlywed, couple's, honeymoon, is, upended...</td>\n",
              "    </tr>\n",
              "    <tr>\n",
              "      <th>4807</th>\n",
              "      <td>231617</td>\n",
              "      <td>Signed, Sealed, Delivered</td>\n",
              "      <td>[\"Signed,, Sealed,, Delivered\", introduces, a,...</td>\n",
              "    </tr>\n",
              "    <tr>\n",
              "      <th>4808</th>\n",
              "      <td>126186</td>\n",
              "      <td>Shanghai Calling</td>\n",
              "      <td>[When, ambitious, New, York, attorney, Sam, is...</td>\n",
              "    </tr>\n",
              "    <tr>\n",
              "      <th>4809</th>\n",
              "      <td>25975</td>\n",
              "      <td>My Date with Drew</td>\n",
              "      <td>[Ever, since, the, second, grade, when, he, fi...</td>\n",
              "    </tr>\n",
              "  </tbody>\n",
              "</table>\n",
              "<p>4807 rows × 3 columns</p>\n",
              "</div>"
            ],
            "text/plain": [
              "          id                                     title  \\\n",
              "0      19995                                    Avatar   \n",
              "1        285  Pirates of the Caribbean: At World's End   \n",
              "2     206647                                   Spectre   \n",
              "3      49026                     The Dark Knight Rises   \n",
              "4      49529                               John Carter   \n",
              "...      ...                                       ...   \n",
              "4805    9367                               El Mariachi   \n",
              "4806   72766                                 Newlyweds   \n",
              "4807  231617                 Signed, Sealed, Delivered   \n",
              "4808  126186                          Shanghai Calling   \n",
              "4809   25975                         My Date with Drew   \n",
              "\n",
              "                                                   tags  \n",
              "0     [In, the, 22nd, century,, a, paraplegic, Marin...  \n",
              "1     [Captain, Barbossa,, long, believed, to, be, d...  \n",
              "2     [A, cryptic, message, from, Bond’s, past, send...  \n",
              "3     [Following, the, death, of, District, Attorney...  \n",
              "4     [John, Carter, is, a, war-weary,, former, mili...  \n",
              "...                                                 ...  \n",
              "4805  [El, Mariachi, just, wants, to, play, his, gui...  \n",
              "4806  [A, newlywed, couple's, honeymoon, is, upended...  \n",
              "4807  [\"Signed,, Sealed,, Delivered\", introduces, a,...  \n",
              "4808  [When, ambitious, New, York, attorney, Sam, is...  \n",
              "4809  [Ever, since, the, second, grade, when, he, fi...  \n",
              "\n",
              "[4807 rows x 3 columns]"
            ]
          },
          "execution_count": 35,
          "metadata": {},
          "output_type": "execute_result"
        }
      ],
      "source": [
        "new_df"
      ]
    },
    {
      "cell_type": "code",
      "execution_count": null,
      "id": "a5541d91",
      "metadata": {
        "id": "a5541d91"
      },
      "outputs": [],
      "source": []
    },
    {
      "cell_type": "markdown",
      "id": "f2ade856",
      "metadata": {
        "execution": {
          "iopub.execute_input": "2023-10-18T17:04:15.538178Z",
          "iopub.status.busy": "2023-10-18T17:04:15.537110Z",
          "iopub.status.idle": "2023-10-18T17:04:15.541563Z",
          "shell.execute_reply": "2023-10-18T17:04:15.540642Z"
        },
        "papermill": {
          "duration": 0.021189,
          "end_time": "2023-10-18T17:04:15.543403",
          "exception": false,
          "start_time": "2023-10-18T17:04:15.522214",
          "status": "completed"
        },
        "tags": [],
        "id": "f2ade856"
      },
      "source": [
        "Converting this list of tags into a string"
      ]
    },
    {
      "cell_type": "code",
      "execution_count": null,
      "id": "9cee0633",
      "metadata": {
        "execution": {
          "iopub.execute_input": "2023-10-18T17:04:15.572823Z",
          "iopub.status.busy": "2023-10-18T17:04:15.572476Z",
          "iopub.status.idle": "2023-10-18T17:04:15.589747Z",
          "shell.execute_reply": "2023-10-18T17:04:15.588307Z"
        },
        "papermill": {
          "duration": 0.034294,
          "end_time": "2023-10-18T17:04:15.591931",
          "exception": false,
          "start_time": "2023-10-18T17:04:15.557637",
          "status": "completed"
        },
        "tags": [],
        "id": "9cee0633",
        "outputId": "0f41ea9b-7708-4c71-9d6a-eac3783374f1"
      },
      "outputs": [
        {
          "name": "stderr",
          "output_type": "stream",
          "text": [
            "C:\\Users\\hp\\AppData\\Local\\Temp\\ipykernel_22676\\3089450492.py:1: SettingWithCopyWarning: \n",
            "A value is trying to be set on a copy of a slice from a DataFrame.\n",
            "Try using .loc[row_indexer,col_indexer] = value instead\n",
            "\n",
            "See the caveats in the documentation: https://pandas.pydata.org/pandas-docs/stable/user_guide/indexing.html#returning-a-view-versus-a-copy\n",
            "  new_df['tags'] = new_df['tags'].apply(lambda x:\" \".join(x))\n"
          ]
        }
      ],
      "source": [
        "new_df['tags'] = new_df['tags'].apply(lambda x:\" \".join(x))"
      ]
    },
    {
      "cell_type": "code",
      "execution_count": null,
      "id": "8cdf0e26",
      "metadata": {
        "execution": {
          "iopub.execute_input": "2023-10-18T17:04:15.621242Z",
          "iopub.status.busy": "2023-10-18T17:04:15.620911Z",
          "iopub.status.idle": "2023-10-18T17:04:15.627172Z",
          "shell.execute_reply": "2023-10-18T17:04:15.626271Z"
        },
        "papermill": {
          "duration": 0.022894,
          "end_time": "2023-10-18T17:04:15.628995",
          "exception": false,
          "start_time": "2023-10-18T17:04:15.606101",
          "status": "completed"
        },
        "tags": [],
        "id": "8cdf0e26",
        "outputId": "116eb611-8c7e-450c-cc55-83762af3cda7"
      },
      "outputs": [
        {
          "data": {
            "text/plain": [
              "'In the 22nd century, a paraplegic Marine is dispatched to the moon Pandora on a unique mission, but becomes torn between following orders and protecting an alien civilization. Action Adventure Fantasy ScienceFiction cultureclash future spacewar spacecolony society spacetravel futuristic romance space alien tribe alienplanet cgi marine soldier battle loveaffair antiwar powerrelations mindandsoul 3d SamWorthington ZoeSaldana SigourneyWeaver JamesCameron'"
            ]
          },
          "execution_count": 37,
          "metadata": {},
          "output_type": "execute_result"
        }
      ],
      "source": [
        "new_df['tags'][0]"
      ]
    },
    {
      "cell_type": "markdown",
      "id": "5cca967a",
      "metadata": {
        "execution": {
          "iopub.execute_input": "2023-10-18T17:04:15.659267Z",
          "iopub.status.busy": "2023-10-18T17:04:15.658703Z",
          "iopub.status.idle": "2023-10-18T17:04:15.662020Z",
          "shell.execute_reply": "2023-10-18T17:04:15.661396Z"
        },
        "papermill": {
          "duration": 0.020443,
          "end_time": "2023-10-18T17:04:15.663672",
          "exception": false,
          "start_time": "2023-10-18T17:04:15.643229",
          "status": "completed"
        },
        "tags": [],
        "id": "5cca967a"
      },
      "source": [
        "Converting all uppercase letters into lowercase"
      ]
    },
    {
      "cell_type": "code",
      "execution_count": null,
      "id": "05cdebcc",
      "metadata": {
        "execution": {
          "iopub.execute_input": "2023-10-18T17:04:15.694058Z",
          "iopub.status.busy": "2023-10-18T17:04:15.693450Z",
          "iopub.status.idle": "2023-10-18T17:04:15.708305Z",
          "shell.execute_reply": "2023-10-18T17:04:15.707616Z"
        },
        "papermill": {
          "duration": 0.032213,
          "end_time": "2023-10-18T17:04:15.710370",
          "exception": false,
          "start_time": "2023-10-18T17:04:15.678157",
          "status": "completed"
        },
        "tags": [],
        "id": "05cdebcc",
        "outputId": "4aa675ef-ff2e-4b90-950e-c7047c6addf7"
      },
      "outputs": [
        {
          "name": "stderr",
          "output_type": "stream",
          "text": [
            "C:\\Users\\hp\\AppData\\Local\\Temp\\ipykernel_22676\\3214958533.py:1: SettingWithCopyWarning: \n",
            "A value is trying to be set on a copy of a slice from a DataFrame.\n",
            "Try using .loc[row_indexer,col_indexer] = value instead\n",
            "\n",
            "See the caveats in the documentation: https://pandas.pydata.org/pandas-docs/stable/user_guide/indexing.html#returning-a-view-versus-a-copy\n",
            "  new_df['tags'] = new_df['tags'].apply(lambda x:x.lower())\n"
          ]
        }
      ],
      "source": [
        "new_df['tags'] = new_df['tags'].apply(lambda x:x.lower())"
      ]
    },
    {
      "cell_type": "code",
      "execution_count": null,
      "id": "69d00d0b",
      "metadata": {
        "execution": {
          "iopub.execute_input": "2023-10-18T17:04:15.740386Z",
          "iopub.status.busy": "2023-10-18T17:04:15.739781Z",
          "iopub.status.idle": "2023-10-18T17:04:15.748239Z",
          "shell.execute_reply": "2023-10-18T17:04:15.747617Z"
        },
        "papermill": {
          "duration": 0.025146,
          "end_time": "2023-10-18T17:04:15.749845",
          "exception": false,
          "start_time": "2023-10-18T17:04:15.724699",
          "status": "completed"
        },
        "tags": [],
        "id": "69d00d0b",
        "outputId": "17f30d64-9b10-4c77-ddc8-4ebeed9e3523"
      },
      "outputs": [
        {
          "data": {
            "text/html": [
              "<div>\n",
              "<style scoped>\n",
              "    .dataframe tbody tr th:only-of-type {\n",
              "        vertical-align: middle;\n",
              "    }\n",
              "\n",
              "    .dataframe tbody tr th {\n",
              "        vertical-align: top;\n",
              "    }\n",
              "\n",
              "    .dataframe thead th {\n",
              "        text-align: right;\n",
              "    }\n",
              "</style>\n",
              "<table border=\"1\" class=\"dataframe\">\n",
              "  <thead>\n",
              "    <tr style=\"text-align: right;\">\n",
              "      <th></th>\n",
              "      <th>id</th>\n",
              "      <th>title</th>\n",
              "      <th>tags</th>\n",
              "    </tr>\n",
              "  </thead>\n",
              "  <tbody>\n",
              "    <tr>\n",
              "      <th>0</th>\n",
              "      <td>19995</td>\n",
              "      <td>Avatar</td>\n",
              "      <td>in the 22nd century, a paraplegic marine is di...</td>\n",
              "    </tr>\n",
              "    <tr>\n",
              "      <th>1</th>\n",
              "      <td>285</td>\n",
              "      <td>Pirates of the Caribbean: At World's End</td>\n",
              "      <td>captain barbossa, long believed to be dead, ha...</td>\n",
              "    </tr>\n",
              "    <tr>\n",
              "      <th>2</th>\n",
              "      <td>206647</td>\n",
              "      <td>Spectre</td>\n",
              "      <td>a cryptic message from bond’s past sends him o...</td>\n",
              "    </tr>\n",
              "    <tr>\n",
              "      <th>3</th>\n",
              "      <td>49026</td>\n",
              "      <td>The Dark Knight Rises</td>\n",
              "      <td>following the death of district attorney harve...</td>\n",
              "    </tr>\n",
              "    <tr>\n",
              "      <th>4</th>\n",
              "      <td>49529</td>\n",
              "      <td>John Carter</td>\n",
              "      <td>john carter is a war-weary, former military ca...</td>\n",
              "    </tr>\n",
              "  </tbody>\n",
              "</table>\n",
              "</div>"
            ],
            "text/plain": [
              "       id                                     title  \\\n",
              "0   19995                                    Avatar   \n",
              "1     285  Pirates of the Caribbean: At World's End   \n",
              "2  206647                                   Spectre   \n",
              "3   49026                     The Dark Knight Rises   \n",
              "4   49529                               John Carter   \n",
              "\n",
              "                                                tags  \n",
              "0  in the 22nd century, a paraplegic marine is di...  \n",
              "1  captain barbossa, long believed to be dead, ha...  \n",
              "2  a cryptic message from bond’s past sends him o...  \n",
              "3  following the death of district attorney harve...  \n",
              "4  john carter is a war-weary, former military ca...  "
            ]
          },
          "execution_count": 39,
          "metadata": {},
          "output_type": "execute_result"
        }
      ],
      "source": [
        "new_df.head()"
      ]
    },
    {
      "cell_type": "markdown",
      "id": "2465b90e",
      "metadata": {
        "execution": {
          "iopub.execute_input": "2023-10-18T17:04:15.780424Z",
          "iopub.status.busy": "2023-10-18T17:04:15.779451Z",
          "iopub.status.idle": "2023-10-18T17:04:15.784007Z",
          "shell.execute_reply": "2023-10-18T17:04:15.783058Z"
        },
        "papermill": {
          "duration": 0.021709,
          "end_time": "2023-10-18T17:04:15.785877",
          "exception": false,
          "start_time": "2023-10-18T17:04:15.764168",
          "status": "completed"
        },
        "tags": [],
        "id": "2465b90e"
      },
      "source": [
        "Now we will use stemming using nltk library to remove same words like love, loving, loved"
      ]
    },
    {
      "cell_type": "code",
      "execution_count": null,
      "id": "afc30a7c",
      "metadata": {
        "id": "afc30a7c",
        "outputId": "4bcd0bf9-9438-452f-c0a7-f6c2cdfc0bcf"
      },
      "outputs": [
        {
          "data": {
            "text/plain": [
              "id                                                   32740\n",
              "title                                               Krrish\n",
              "tags     krishna (roshan) is born with magic power - a ...\n",
              "Name: 3092, dtype: object"
            ]
          },
          "execution_count": 89,
          "metadata": {},
          "output_type": "execute_result"
        }
      ],
      "source": [
        "new_df.iloc[3091]"
      ]
    },
    {
      "cell_type": "markdown",
      "id": "5600093c",
      "metadata": {
        "id": "5600093c"
      },
      "source": [
        "29    when bond' latest assign goe grave wrong and a...\n",
        "Name: tags, dtype: object\n"
      ]
    },
    {
      "cell_type": "code",
      "execution_count": null,
      "id": "45a63be2",
      "metadata": {
        "execution": {
          "iopub.execute_input": "2023-10-18T17:04:15.815713Z",
          "iopub.status.busy": "2023-10-18T17:04:15.815330Z",
          "iopub.status.idle": "2023-10-18T17:04:17.491861Z",
          "shell.execute_reply": "2023-10-18T17:04:17.490775Z"
        },
        "papermill": {
          "duration": 1.693769,
          "end_time": "2023-10-18T17:04:17.494144",
          "exception": false,
          "start_time": "2023-10-18T17:04:15.800375",
          "status": "completed"
        },
        "tags": [],
        "id": "45a63be2"
      },
      "outputs": [],
      "source": [
        "import nltk"
      ]
    },
    {
      "cell_type": "code",
      "execution_count": null,
      "id": "b61becad",
      "metadata": {
        "execution": {
          "iopub.execute_input": "2023-10-18T17:04:17.525704Z",
          "iopub.status.busy": "2023-10-18T17:04:17.524752Z",
          "iopub.status.idle": "2023-10-18T17:04:17.528948Z",
          "shell.execute_reply": "2023-10-18T17:04:17.528128Z"
        },
        "papermill": {
          "duration": 0.021596,
          "end_time": "2023-10-18T17:04:17.530674",
          "exception": false,
          "start_time": "2023-10-18T17:04:17.509078",
          "status": "completed"
        },
        "tags": [],
        "id": "b61becad"
      },
      "outputs": [],
      "source": [
        "from nltk.stem.porter import PorterStemmer\n",
        "ps = PorterStemmer()"
      ]
    },
    {
      "cell_type": "code",
      "execution_count": null,
      "id": "ccef5913",
      "metadata": {
        "execution": {
          "iopub.execute_input": "2023-10-18T17:04:17.561329Z",
          "iopub.status.busy": "2023-10-18T17:04:17.560636Z",
          "iopub.status.idle": "2023-10-18T17:04:17.566726Z",
          "shell.execute_reply": "2023-10-18T17:04:17.565771Z"
        },
        "papermill": {
          "duration": 0.023355,
          "end_time": "2023-10-18T17:04:17.568563",
          "exception": false,
          "start_time": "2023-10-18T17:04:17.545208",
          "status": "completed"
        },
        "tags": [],
        "id": "ccef5913",
        "outputId": "7a8c8883-e537-4e1d-d9af-3438081d7ec8"
      },
      "outputs": [
        {
          "data": {
            "text/plain": [
              "'love'"
            ]
          },
          "execution_count": 42,
          "metadata": {},
          "output_type": "execute_result"
        }
      ],
      "source": [
        "ps.stem('loving')"
      ]
    },
    {
      "cell_type": "code",
      "execution_count": null,
      "id": "304f0658",
      "metadata": {
        "execution": {
          "iopub.execute_input": "2023-10-18T17:04:17.600449Z",
          "iopub.status.busy": "2023-10-18T17:04:17.599551Z",
          "iopub.status.idle": "2023-10-18T17:04:17.603904Z",
          "shell.execute_reply": "2023-10-18T17:04:17.603286Z"
        },
        "papermill": {
          "duration": 0.022103,
          "end_time": "2023-10-18T17:04:17.605559",
          "exception": false,
          "start_time": "2023-10-18T17:04:17.583456",
          "status": "completed"
        },
        "tags": [],
        "id": "304f0658"
      },
      "outputs": [],
      "source": [
        "def stem(text):\n",
        "    y = []\n",
        "\n",
        "    # Converting string into list\n",
        "\n",
        "    for i in text.split():\n",
        "        y.append(ps.stem(i))\n",
        "\n",
        "    # Again converting list into string\n",
        "    return \" \".join(y)"
      ]
    },
    {
      "cell_type": "code",
      "execution_count": null,
      "id": "a738dd8a",
      "metadata": {
        "execution": {
          "iopub.execute_input": "2023-10-18T17:04:17.636329Z",
          "iopub.status.busy": "2023-10-18T17:04:17.635780Z",
          "iopub.status.idle": "2023-10-18T17:04:23.156419Z",
          "shell.execute_reply": "2023-10-18T17:04:23.155472Z"
        },
        "papermill": {
          "duration": 5.5382,
          "end_time": "2023-10-18T17:04:23.158428",
          "exception": false,
          "start_time": "2023-10-18T17:04:17.620228",
          "status": "completed"
        },
        "tags": [],
        "id": "a738dd8a",
        "outputId": "150baedb-fe5b-449b-9e2b-bdec3766372f"
      },
      "outputs": [
        {
          "name": "stderr",
          "output_type": "stream",
          "text": [
            "C:\\Users\\hp\\AppData\\Local\\Temp\\ipykernel_22676\\3213734980.py:1: SettingWithCopyWarning: \n",
            "A value is trying to be set on a copy of a slice from a DataFrame.\n",
            "Try using .loc[row_indexer,col_indexer] = value instead\n",
            "\n",
            "See the caveats in the documentation: https://pandas.pydata.org/pandas-docs/stable/user_guide/indexing.html#returning-a-view-versus-a-copy\n",
            "  new_df['tags'] = new_df['tags'].apply(stem)\n"
          ]
        }
      ],
      "source": [
        "new_df['tags'] = new_df['tags'].apply(stem)"
      ]
    },
    {
      "cell_type": "code",
      "execution_count": null,
      "id": "bb21b9c0",
      "metadata": {
        "id": "bb21b9c0",
        "outputId": "05960763-5ee0-40fb-9b85-ae967fbcf613"
      },
      "outputs": [
        {
          "data": {
            "text/html": [
              "<div>\n",
              "<style scoped>\n",
              "    .dataframe tbody tr th:only-of-type {\n",
              "        vertical-align: middle;\n",
              "    }\n",
              "\n",
              "    .dataframe tbody tr th {\n",
              "        vertical-align: top;\n",
              "    }\n",
              "\n",
              "    .dataframe thead th {\n",
              "        text-align: right;\n",
              "    }\n",
              "</style>\n",
              "<table border=\"1\" class=\"dataframe\">\n",
              "  <thead>\n",
              "    <tr style=\"text-align: right;\">\n",
              "      <th></th>\n",
              "      <th>id</th>\n",
              "      <th>title</th>\n",
              "      <th>tags</th>\n",
              "    </tr>\n",
              "  </thead>\n",
              "  <tbody>\n",
              "    <tr>\n",
              "      <th>0</th>\n",
              "      <td>19995</td>\n",
              "      <td>Avatar</td>\n",
              "      <td>in the 22nd century, a parapleg marin is dispa...</td>\n",
              "    </tr>\n",
              "    <tr>\n",
              "      <th>1</th>\n",
              "      <td>285</td>\n",
              "      <td>Pirates of the Caribbean: At World's End</td>\n",
              "      <td>captain barbossa, long believ to be dead, ha c...</td>\n",
              "    </tr>\n",
              "    <tr>\n",
              "      <th>2</th>\n",
              "      <td>206647</td>\n",
              "      <td>Spectre</td>\n",
              "      <td>a cryptic messag from bond’ past send him on a...</td>\n",
              "    </tr>\n",
              "    <tr>\n",
              "      <th>3</th>\n",
              "      <td>49026</td>\n",
              "      <td>The Dark Knight Rises</td>\n",
              "      <td>follow the death of district attorney harvey d...</td>\n",
              "    </tr>\n",
              "    <tr>\n",
              "      <th>4</th>\n",
              "      <td>49529</td>\n",
              "      <td>John Carter</td>\n",
              "      <td>john carter is a war-weary, former militari ca...</td>\n",
              "    </tr>\n",
              "    <tr>\n",
              "      <th>...</th>\n",
              "      <td>...</td>\n",
              "      <td>...</td>\n",
              "      <td>...</td>\n",
              "    </tr>\n",
              "    <tr>\n",
              "      <th>4805</th>\n",
              "      <td>9367</td>\n",
              "      <td>El Mariachi</td>\n",
              "      <td>el mariachi just want to play hi guitar and ca...</td>\n",
              "    </tr>\n",
              "    <tr>\n",
              "      <th>4806</th>\n",
              "      <td>72766</td>\n",
              "      <td>Newlyweds</td>\n",
              "      <td>a newlyw couple' honeymoon is upend by the arr...</td>\n",
              "    </tr>\n",
              "    <tr>\n",
              "      <th>4807</th>\n",
              "      <td>231617</td>\n",
              "      <td>Signed, Sealed, Delivered</td>\n",
              "      <td>\"signed, sealed, delivered\" introduc a dedic q...</td>\n",
              "    </tr>\n",
              "    <tr>\n",
              "      <th>4808</th>\n",
              "      <td>126186</td>\n",
              "      <td>Shanghai Calling</td>\n",
              "      <td>when ambiti new york attorney sam is sent to s...</td>\n",
              "    </tr>\n",
              "    <tr>\n",
              "      <th>4809</th>\n",
              "      <td>25975</td>\n",
              "      <td>My Date with Drew</td>\n",
              "      <td>ever sinc the second grade when he first saw h...</td>\n",
              "    </tr>\n",
              "  </tbody>\n",
              "</table>\n",
              "<p>4807 rows × 3 columns</p>\n",
              "</div>"
            ],
            "text/plain": [
              "          id                                     title  \\\n",
              "0      19995                                    Avatar   \n",
              "1        285  Pirates of the Caribbean: At World's End   \n",
              "2     206647                                   Spectre   \n",
              "3      49026                     The Dark Knight Rises   \n",
              "4      49529                               John Carter   \n",
              "...      ...                                       ...   \n",
              "4805    9367                               El Mariachi   \n",
              "4806   72766                                 Newlyweds   \n",
              "4807  231617                 Signed, Sealed, Delivered   \n",
              "4808  126186                          Shanghai Calling   \n",
              "4809   25975                         My Date with Drew   \n",
              "\n",
              "                                                   tags  \n",
              "0     in the 22nd century, a parapleg marin is dispa...  \n",
              "1     captain barbossa, long believ to be dead, ha c...  \n",
              "2     a cryptic messag from bond’ past send him on a...  \n",
              "3     follow the death of district attorney harvey d...  \n",
              "4     john carter is a war-weary, former militari ca...  \n",
              "...                                                 ...  \n",
              "4805  el mariachi just want to play hi guitar and ca...  \n",
              "4806  a newlyw couple' honeymoon is upend by the arr...  \n",
              "4807  \"signed, sealed, delivered\" introduc a dedic q...  \n",
              "4808  when ambiti new york attorney sam is sent to s...  \n",
              "4809  ever sinc the second grade when he first saw h...  \n",
              "\n",
              "[4807 rows x 3 columns]"
            ]
          },
          "execution_count": 45,
          "metadata": {},
          "output_type": "execute_result"
        }
      ],
      "source": [
        "new_df"
      ]
    },
    {
      "cell_type": "markdown",
      "id": "1a6e4b54",
      "metadata": {
        "execution": {
          "iopub.execute_input": "2023-10-18T17:04:23.189047Z",
          "iopub.status.busy": "2023-10-18T17:04:23.188728Z",
          "iopub.status.idle": "2023-10-18T17:04:23.192022Z",
          "shell.execute_reply": "2023-10-18T17:04:23.191419Z"
        },
        "papermill": {
          "duration": 0.020691,
          "end_time": "2023-10-18T17:04:23.193784",
          "exception": false,
          "start_time": "2023-10-18T17:04:23.173093",
          "status": "completed"
        },
        "tags": [],
        "id": "1a6e4b54"
      },
      "source": [
        "Now we will do vectorization of data in tags column            \n",
        "First we'll combine all the tags and calculate 5000 words whose frequency is maximum"
      ]
    },
    {
      "cell_type": "code",
      "execution_count": null,
      "id": "89ff9e17",
      "metadata": {
        "execution": {
          "iopub.execute_input": "2023-10-18T17:04:23.224007Z",
          "iopub.status.busy": "2023-10-18T17:04:23.223474Z",
          "iopub.status.idle": "2023-10-18T17:04:23.227796Z",
          "shell.execute_reply": "2023-10-18T17:04:23.227187Z"
        },
        "papermill": {
          "duration": 0.021411,
          "end_time": "2023-10-18T17:04:23.229485",
          "exception": false,
          "start_time": "2023-10-18T17:04:23.208074",
          "status": "completed"
        },
        "tags": [],
        "id": "89ff9e17"
      },
      "outputs": [],
      "source": [
        "\n",
        "from sklearn.feature_extraction.text import CountVectorizer\n",
        "cv = CountVectorizer(max_features=5000, stop_words='english')"
      ]
    },
    {
      "cell_type": "code",
      "execution_count": null,
      "id": "5c8481e5",
      "metadata": {
        "execution": {
          "iopub.execute_input": "2023-10-18T17:04:23.260395Z",
          "iopub.status.busy": "2023-10-18T17:04:23.259782Z",
          "iopub.status.idle": "2023-10-18T17:04:23.779662Z",
          "shell.execute_reply": "2023-10-18T17:04:23.778702Z"
        },
        "papermill": {
          "duration": 0.538262,
          "end_time": "2023-10-18T17:04:23.782452",
          "exception": false,
          "start_time": "2023-10-18T17:04:23.244190",
          "status": "completed"
        },
        "tags": [],
        "id": "5c8481e5"
      },
      "outputs": [],
      "source": [
        "vectors = cv.fit_transform(new_df['tags']).toarray()"
      ]
    },
    {
      "cell_type": "code",
      "execution_count": null,
      "id": "d51bf7b4",
      "metadata": {
        "execution": {
          "iopub.execute_input": "2023-10-18T17:04:23.814014Z",
          "iopub.status.busy": "2023-10-18T17:04:23.813689Z",
          "iopub.status.idle": "2023-10-18T17:04:23.819317Z",
          "shell.execute_reply": "2023-10-18T17:04:23.818289Z"
        },
        "papermill": {
          "duration": 0.023446,
          "end_time": "2023-10-18T17:04:23.821193",
          "exception": false,
          "start_time": "2023-10-18T17:04:23.797747",
          "status": "completed"
        },
        "tags": [],
        "id": "d51bf7b4",
        "outputId": "1ba43793-8301-4c96-b8d2-3df58885b8ab"
      },
      "outputs": [
        {
          "data": {
            "text/plain": [
              "(4807, 5000)"
            ]
          },
          "execution_count": 48,
          "metadata": {},
          "output_type": "execute_result"
        }
      ],
      "source": [
        "vectors.shape #vector containing top  5000 features from every 4806 rows"
      ]
    },
    {
      "cell_type": "code",
      "execution_count": null,
      "id": "8323585a",
      "metadata": {
        "execution": {
          "iopub.execute_input": "2023-10-18T17:04:23.851811Z",
          "iopub.status.busy": "2023-10-18T17:04:23.851454Z",
          "iopub.status.idle": "2023-10-18T17:04:23.857747Z",
          "shell.execute_reply": "2023-10-18T17:04:23.856702Z"
        },
        "papermill": {
          "duration": 0.02361,
          "end_time": "2023-10-18T17:04:23.859412",
          "exception": false,
          "start_time": "2023-10-18T17:04:23.835802",
          "status": "completed"
        },
        "tags": [],
        "id": "8323585a",
        "outputId": "4a3806b8-145f-49e6-8b27-c43922d624c6"
      },
      "outputs": [
        {
          "data": {
            "text/plain": [
              "array([0, 0, 0, ..., 0, 0, 0], dtype=int64)"
            ]
          },
          "execution_count": 49,
          "metadata": {},
          "output_type": "execute_result"
        }
      ],
      "source": [
        "vectors[0] # Vector of movie Avatar"
      ]
    },
    {
      "cell_type": "code",
      "execution_count": null,
      "id": "92e7f40a",
      "metadata": {
        "execution": {
          "iopub.execute_input": "2023-10-18T17:04:23.890800Z",
          "iopub.status.busy": "2023-10-18T17:04:23.889829Z",
          "iopub.status.idle": "2023-10-18T17:04:23.899809Z",
          "shell.execute_reply": "2023-10-18T17:04:23.898837Z"
        },
        "papermill": {
          "duration": 0.027763,
          "end_time": "2023-10-18T17:04:23.901853",
          "exception": false,
          "start_time": "2023-10-18T17:04:23.874090",
          "status": "completed"
        },
        "tags": [],
        "id": "92e7f40a",
        "outputId": "1c8ec23b-1bbb-477c-cc38-f4022ca45285"
      },
      "outputs": [
        {
          "data": {
            "text/plain": [
              "array(['000', '007', '10', ..., 'zone', 'zoo', 'zooeydeschanel'],\n",
              "      dtype=object)"
            ]
          },
          "execution_count": 50,
          "metadata": {},
          "output_type": "execute_result"
        }
      ],
      "source": [
        "cv.get_feature_names_out()"
      ]
    },
    {
      "cell_type": "code",
      "execution_count": null,
      "id": "dbcf6c46",
      "metadata": {
        "execution": {
          "iopub.execute_input": "2023-10-18T17:04:23.934241Z",
          "iopub.status.busy": "2023-10-18T17:04:23.933689Z",
          "iopub.status.idle": "2023-10-18T17:04:23.940924Z",
          "shell.execute_reply": "2023-10-18T17:04:23.940124Z"
        },
        "papermill": {
          "duration": 0.025647,
          "end_time": "2023-10-18T17:04:23.942702",
          "exception": false,
          "start_time": "2023-10-18T17:04:23.917055",
          "status": "completed"
        },
        "tags": [],
        "id": "dbcf6c46",
        "outputId": "11bac59d-0c1f-43ba-a290-019c2ea3707c"
      },
      "outputs": [
        {
          "data": {
            "text/plain": [
              "'in the 22nd century, a parapleg marin is dispatch to the moon pandora on a uniqu mission, but becom torn between follow order and protect an alien civilization. action adventur fantasi sciencefict cultureclash futur spacewar spacecoloni societi spacetravel futurist romanc space alien tribe alienplanet cgi marin soldier battl loveaffair antiwar powerrel mindandsoul 3d samworthington zoesaldana sigourneyweav jamescameron'"
            ]
          },
          "execution_count": 51,
          "metadata": {},
          "output_type": "execute_result"
        }
      ],
      "source": [
        "stem('In the 22nd century, a paraplegic Marine is dispatched to the moon Pandora on a unique mission, but becomes torn between following orders and protecting an alien civilization. Action Adventure Fantasy ScienceFiction cultureclash future spacewar spacecolony society spacetravel futuristic romance space alien tribe alienplanet cgi marine soldier battle loveaffair antiwar powerrelations mindandsoul 3d SamWorthington ZoeSaldana SigourneyWeaver JamesCameron')"
      ]
    },
    {
      "cell_type": "markdown",
      "id": "9f391bcb",
      "metadata": {
        "execution": {
          "iopub.execute_input": "2023-10-18T17:04:23.974374Z",
          "iopub.status.busy": "2023-10-18T17:04:23.973803Z",
          "iopub.status.idle": "2023-10-18T17:04:23.977881Z",
          "shell.execute_reply": "2023-10-18T17:04:23.977192Z"
        },
        "papermill": {
          "duration": 0.021974,
          "end_time": "2023-10-18T17:04:23.979629",
          "exception": false,
          "start_time": "2023-10-18T17:04:23.957655",
          "status": "completed"
        },
        "tags": [],
        "id": "9f391bcb"
      },
      "source": [
        "Now we have 4806 vectors (one for each movie)       \n",
        "Now we will calculate distance between two vectors to find similarity between movies          \n",
        "We will calculate cosine distance (angle b/w vectors) rather than euclidean distance           \n",
        "As the dimension of data increases, the performance of euclidean distance decreases        "
      ]
    },
    {
      "cell_type": "code",
      "execution_count": null,
      "id": "011d90a5",
      "metadata": {
        "execution": {
          "iopub.execute_input": "2023-10-18T17:04:24.010750Z",
          "iopub.status.busy": "2023-10-18T17:04:24.010165Z",
          "iopub.status.idle": "2023-10-18T17:04:24.014287Z",
          "shell.execute_reply": "2023-10-18T17:04:24.013707Z"
        },
        "papermill": {
          "duration": 0.021672,
          "end_time": "2023-10-18T17:04:24.016094",
          "exception": false,
          "start_time": "2023-10-18T17:04:23.994422",
          "status": "completed"
        },
        "tags": [],
        "id": "011d90a5"
      },
      "outputs": [],
      "source": [
        "from sklearn.metrics.pairwise import cosine_similarity"
      ]
    },
    {
      "cell_type": "code",
      "execution_count": null,
      "id": "c6de6263",
      "metadata": {
        "execution": {
          "iopub.execute_input": "2023-10-18T17:04:24.047193Z",
          "iopub.status.busy": "2023-10-18T17:04:24.046782Z",
          "iopub.status.idle": "2023-10-18T17:04:26.582852Z",
          "shell.execute_reply": "2023-10-18T17:04:26.581922Z"
        },
        "papermill": {
          "duration": 2.554121,
          "end_time": "2023-10-18T17:04:26.584789",
          "exception": false,
          "start_time": "2023-10-18T17:04:24.030668",
          "status": "completed"
        },
        "tags": [],
        "id": "c6de6263",
        "outputId": "521f4afd-1686-4b7a-eb17-48c5787dfbcb"
      },
      "outputs": [
        {
          "data": {
            "text/plain": [
              "(4807, 4807)"
            ]
          },
          "execution_count": 53,
          "metadata": {},
          "output_type": "execute_result"
        }
      ],
      "source": [
        "#This calculates the cosine similarity between vectors which tells how similar each vector to\n",
        "#each other this will help to get similar movies w.r.t to our feed\n",
        "cosine_similarity(vectors).shape"
      ]
    },
    {
      "cell_type": "code",
      "execution_count": null,
      "id": "a8fd5662",
      "metadata": {
        "execution": {
          "iopub.execute_input": "2023-10-18T17:04:26.617165Z",
          "iopub.status.busy": "2023-10-18T17:04:26.616784Z",
          "iopub.status.idle": "2023-10-18T17:04:29.043889Z",
          "shell.execute_reply": "2023-10-18T17:04:29.042461Z"
        },
        "papermill": {
          "duration": 2.44772,
          "end_time": "2023-10-18T17:04:29.048416",
          "exception": false,
          "start_time": "2023-10-18T17:04:26.600696",
          "status": "completed"
        },
        "tags": [],
        "id": "a8fd5662"
      },
      "outputs": [],
      "source": [
        "\n",
        "similarity = cosine_similarity(vectors)"
      ]
    },
    {
      "cell_type": "code",
      "execution_count": null,
      "id": "6bef5938",
      "metadata": {
        "id": "6bef5938",
        "outputId": "7106ee90-2307-432a-e486-178e3e5d103c"
      },
      "outputs": [
        {
          "name": "stdout",
          "output_type": "stream",
          "text": [
            "[[1.         0.08346223 0.0860309  ... 0.04499213 0.         0.        ]\n",
            " [0.08346223 1.         0.06063391 ... 0.02378257 0.         0.02615329]\n",
            " [0.0860309  0.06063391 1.         ... 0.02451452 0.         0.        ]\n",
            " ...\n",
            " [0.04499213 0.02378257 0.02451452 ... 1.         0.03962144 0.04229549]\n",
            " [0.         0.         0.         ... 0.03962144 1.         0.08714204]\n",
            " [0.         0.02615329 0.         ... 0.04229549 0.08714204 1.        ]]\n"
          ]
        }
      ],
      "source": [
        "\n",
        "print(similarity)"
      ]
    },
    {
      "cell_type": "code",
      "execution_count": null,
      "id": "01f5f11e",
      "metadata": {
        "id": "01f5f11e",
        "outputId": "bb612e36-ca2d-4c6f-afc3-9f9dd56e8c07"
      },
      "outputs": [
        {
          "name": "stdout",
          "output_type": "stream",
          "text": [
            "[13, 6, 5, 4, 2, 1]\n"
          ]
        }
      ],
      "source": [
        "lst=[1,2,13,4,5,6]\n",
        "x=sorted(lst,reverse=True)\n",
        "print(x)"
      ]
    },
    {
      "cell_type": "code",
      "execution_count": null,
      "id": "8ee8219a",
      "metadata": {
        "id": "8ee8219a",
        "outputId": "9d3aa49d-49ce-4d98-8928-b9db360e94e5"
      },
      "outputs": [
        {
          "name": "stdout",
          "output_type": "stream",
          "text": [
            "[0.06503325 0.04583492 0.33071891 ... 0.01853123 0.03818018 0.02037848]\n",
            "[(2, 0.3307189138830738), (1344, 0.32897584747988445), (1745, 0.316227766016838), (11, 0.2728884114549076), (4343, 0.25943726083138546)]\n"
          ]
        }
      ],
      "source": [
        "movie_index = new_df[new_df['title'] == 'Skyfall'].index[0]\n",
        "#print(movie_index)\n",
        "distances = similarity[movie_index]\n",
        "print(distances)\n",
        "#print(list(enumerate(distances)))\n",
        "\n",
        "movies_list = sorted(list(enumerate(distances)),reverse=True,key = lambda x:x[1])[1:6]\n",
        "\n",
        "print(movies_list)\n",
        "\n",
        "#for i in movies_list:\n",
        "#       print(new_df.iloc[i[0]].title)"
      ]
    },
    {
      "cell_type": "code",
      "execution_count": null,
      "id": "9321084e",
      "metadata": {
        "execution": {
          "iopub.execute_input": "2023-10-18T17:04:29.093514Z",
          "iopub.status.busy": "2023-10-18T17:04:29.093160Z",
          "iopub.status.idle": "2023-10-18T17:04:29.098561Z",
          "shell.execute_reply": "2023-10-18T17:04:29.097454Z"
        },
        "papermill": {
          "duration": 0.025597,
          "end_time": "2023-10-18T17:04:29.100467",
          "exception": false,
          "start_time": "2023-10-18T17:04:29.074870",
          "status": "completed"
        },
        "tags": [],
        "id": "9321084e"
      },
      "outputs": [],
      "source": [
        "def recommend(movie):\n",
        "    movie_index = new_df[new_df['title'] == movie].index[0]\n",
        "    distances = similarity[movie_index]\n",
        "    movies_list = sorted(list(enumerate(distances)),reverse=True,key=lambda x:x[1])[1:6]\n",
        "\n",
        "    for i in movies_list:\n",
        "        print(new_df.iloc[i[0]].title)"
      ]
    },
    {
      "cell_type": "markdown",
      "id": "8b6229ec",
      "metadata": {
        "id": "8b6229ec"
      },
      "source": [
        "above code will give error if similar movies are not presnt       \n",
        "so the below code will handel that error using try and except block"
      ]
    },
    {
      "cell_type": "code",
      "execution_count": null,
      "id": "8f5ca6e4",
      "metadata": {
        "id": "8f5ca6e4"
      },
      "outputs": [],
      "source": [
        "def recommend(movie):\n",
        "    try:\n",
        "        movie_index = new_df[new_df['title'] == movie].index[0]\n",
        "        distances = similarity[movie_index]\n",
        "        movies_list = sorted(list(enumerate(distances)), reverse=True, key=lambda x: x[1])[1:6]\n",
        "\n",
        "        for i in movies_list:\n",
        "            print(new_df.iloc[i[0]].title)\n",
        "\n",
        "    except IndexError:\n",
        "        print(movie , 'not found')"
      ]
    },
    {
      "cell_type": "code",
      "execution_count": null,
      "id": "a8e60de3",
      "metadata": {
        "execution": {
          "iopub.execute_input": "2023-10-18T17:04:29.132817Z",
          "iopub.status.busy": "2023-10-18T17:04:29.132151Z",
          "iopub.status.idle": "2023-10-18T17:04:29.140626Z",
          "shell.execute_reply": "2023-10-18T17:04:29.139635Z"
        },
        "papermill": {
          "duration": 0.026623,
          "end_time": "2023-10-18T17:04:29.142470",
          "exception": false,
          "start_time": "2023-10-18T17:04:29.115847",
          "status": "completed"
        },
        "tags": [],
        "id": "a8e60de3",
        "outputId": "7b856c47-9eed-4b91-948a-605a11fdba0b"
      },
      "outputs": [
        {
          "data": {
            "text/plain": [
              "0        True\n",
              "1       False\n",
              "2       False\n",
              "3       False\n",
              "4       False\n",
              "        ...  \n",
              "4805    False\n",
              "4806    False\n",
              "4807    False\n",
              "4808    False\n",
              "4809    False\n",
              "Name: title, Length: 4807, dtype: bool"
            ]
          },
          "execution_count": 60,
          "metadata": {},
          "output_type": "execute_result"
        }
      ],
      "source": [
        "new_df['title'] == 'Avatar'"
      ]
    },
    {
      "cell_type": "code",
      "execution_count": null,
      "id": "eab5df09",
      "metadata": {
        "execution": {
          "iopub.execute_input": "2023-10-18T17:04:29.174717Z",
          "iopub.status.busy": "2023-10-18T17:04:29.174072Z",
          "iopub.status.idle": "2023-10-18T17:04:29.183862Z",
          "shell.execute_reply": "2023-10-18T17:04:29.183092Z"
        },
        "papermill": {
          "duration": 0.027624,
          "end_time": "2023-10-18T17:04:29.185610",
          "exception": false,
          "start_time": "2023-10-18T17:04:29.157986",
          "status": "completed"
        },
        "tags": [],
        "id": "eab5df09",
        "outputId": "7099cac0-90c4-4d50-d368-df4456c90ac3"
      },
      "outputs": [
        {
          "data": {
            "text/html": [
              "<div>\n",
              "<style scoped>\n",
              "    .dataframe tbody tr th:only-of-type {\n",
              "        vertical-align: middle;\n",
              "    }\n",
              "\n",
              "    .dataframe tbody tr th {\n",
              "        vertical-align: top;\n",
              "    }\n",
              "\n",
              "    .dataframe thead th {\n",
              "        text-align: right;\n",
              "    }\n",
              "</style>\n",
              "<table border=\"1\" class=\"dataframe\">\n",
              "  <thead>\n",
              "    <tr style=\"text-align: right;\">\n",
              "      <th></th>\n",
              "      <th>id</th>\n",
              "      <th>title</th>\n",
              "      <th>tags</th>\n",
              "    </tr>\n",
              "  </thead>\n",
              "  <tbody>\n",
              "    <tr>\n",
              "      <th>0</th>\n",
              "      <td>19995</td>\n",
              "      <td>Avatar</td>\n",
              "      <td>in the 22nd century, a parapleg marin is dispa...</td>\n",
              "    </tr>\n",
              "  </tbody>\n",
              "</table>\n",
              "</div>"
            ],
            "text/plain": [
              "      id   title                                               tags\n",
              "0  19995  Avatar  in the 22nd century, a parapleg marin is dispa..."
            ]
          },
          "execution_count": 61,
          "metadata": {},
          "output_type": "execute_result"
        }
      ],
      "source": [
        "new_df[new_df['title'] == 'Avatar']"
      ]
    },
    {
      "cell_type": "code",
      "execution_count": null,
      "id": "f26e716f",
      "metadata": {
        "execution": {
          "iopub.execute_input": "2023-10-18T17:04:29.301706Z",
          "iopub.status.busy": "2023-10-18T17:04:29.301119Z",
          "iopub.status.idle": "2023-10-18T17:04:29.310702Z",
          "shell.execute_reply": "2023-10-18T17:04:29.309483Z"
        },
        "papermill": {
          "duration": 0.027426,
          "end_time": "2023-10-18T17:04:29.312511",
          "exception": false,
          "start_time": "2023-10-18T17:04:29.285085",
          "status": "completed"
        },
        "tags": [],
        "id": "f26e716f",
        "outputId": "412bf51f-fafc-46b3-cd58-ccba2c5ed4a5"
      },
      "outputs": [
        {
          "name": "stdout",
          "output_type": "stream",
          "text": [
            "Aliens vs Predator: Requiem\n",
            "Aliens\n",
            "Falcon Rising\n",
            "Independence Day\n",
            "Titan A.E.\n"
          ]
        }
      ],
      "source": [
        "recommend('Avatar')"
      ]
    },
    {
      "cell_type": "code",
      "execution_count": null,
      "id": "4baf0925",
      "metadata": {
        "execution": {
          "iopub.execute_input": "2023-10-18T17:04:29.345281Z",
          "iopub.status.busy": "2023-10-18T17:04:29.344679Z",
          "iopub.status.idle": "2023-10-18T17:04:29.354520Z",
          "shell.execute_reply": "2023-10-18T17:04:29.353267Z"
        },
        "papermill": {
          "duration": 0.028349,
          "end_time": "2023-10-18T17:04:29.356492",
          "exception": false,
          "start_time": "2023-10-18T17:04:29.328143",
          "status": "completed"
        },
        "tags": [],
        "id": "4baf0925",
        "outputId": "e8192e9a-1591-41bc-f2b6-7c9c0cf14352"
      },
      "outputs": [
        {
          "name": "stdout",
          "output_type": "stream",
          "text": [
            "Batman\n",
            "Batman & Robin\n",
            "Batman Begins\n",
            "Batman Returns\n",
            "The R.M.\n"
          ]
        }
      ],
      "source": [
        "recommend('Batman')"
      ]
    },
    {
      "cell_type": "code",
      "execution_count": null,
      "id": "53770045",
      "metadata": {
        "id": "53770045",
        "outputId": "556d4514-2af9-42d4-e2bb-485807973041"
      },
      "outputs": [
        {
          "name": "stdout",
          "output_type": "stream",
          "text": [
            "Iron Man 3\n",
            "Iron Man 2\n",
            "Avengers: Age of Ultron\n",
            "The Avengers\n",
            "Captain America: Civil War\n"
          ]
        }
      ],
      "source": [
        "recommend('Iron Man')"
      ]
    },
    {
      "cell_type": "code",
      "execution_count": null,
      "id": "dc480a95",
      "metadata": {
        "id": "dc480a95",
        "outputId": "f5f59b9b-e982-47f4-9462-6acfc3aef86f"
      },
      "outputs": [
        {
          "name": "stdout",
          "output_type": "stream",
          "text": [
            "Spider-Man 2\n",
            "Spider-Man\n",
            "The Amazing Spider-Man 2\n",
            "The Amazing Spider-Man\n",
            "Arachnophobia\n"
          ]
        }
      ],
      "source": [
        "recommend('Spider-Man 3')"
      ]
    },
    {
      "cell_type": "code",
      "execution_count": null,
      "id": "fe39de2e",
      "metadata": {
        "id": "fe39de2e"
      },
      "outputs": [],
      "source": []
    }
  ],
  "metadata": {
    "kernelspec": {
      "display_name": "Python 3 (ipykernel)",
      "language": "python",
      "name": "python3"
    },
    "language_info": {
      "codemirror_mode": {
        "name": "ipython",
        "version": 3
      },
      "file_extension": ".py",
      "mimetype": "text/x-python",
      "name": "python",
      "nbconvert_exporter": "python",
      "pygments_lexer": "ipython3",
      "version": "3.12.3"
    },
    "papermill": {
      "default_parameters": {},
      "duration": 27.736423,
      "end_time": "2023-10-18T17:04:30.075460",
      "environment_variables": {},
      "exception": null,
      "input_path": "__notebook__.ipynb",
      "output_path": "__notebook__.ipynb",
      "parameters": {},
      "start_time": "2023-10-18T17:04:02.339037",
      "version": "2.4.0"
    },
    "colab": {
      "provenance": [],
      "toc_visible": true
    }
  },
  "nbformat": 4,
  "nbformat_minor": 5
}